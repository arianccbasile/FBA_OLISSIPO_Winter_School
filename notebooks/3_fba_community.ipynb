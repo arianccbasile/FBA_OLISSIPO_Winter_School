{
 "cells": [
  {
   "cell_type": "markdown",
   "id": "83c80c2b",
   "metadata": {},
   "source": [
    "## FBA Community"
   ]
  },
  {
   "cell_type": "markdown",
   "id": "360c6e74",
   "metadata": {},
   "source": [
    "Author: Arianna Basile, MRC Toxicology Unit, University of Cambridge"
   ]
  },
  {
   "cell_type": "markdown",
   "id": "e5677e3f",
   "metadata": {},
   "source": [
    "__________________________________________________________________________________________________________________\n",
    "In this tutorial:\n",
    "<ul>\n",
    "    <li>Create a small two species community (3.1) </li>\n",
    "    <li>Learn some basics of pandas to extract metabolite exchanged (3.2)</li>\n",
    "    <li>Change the medium and compare our results (3.3) </li>\n",
    "</ul>"
   ]
  },
  {
   "cell_type": "markdown",
   "id": "109595e9",
   "metadata": {},
   "source": [
    "FOR ME! TO DO! In the model block export of acald glycolate and other selected compounds\n",
    "Block import of h (protons)\n",
    "\n",
    "Small intro about LAB and yeast Lactobacillus plantarum\n",
    "\n",
    "Change the models to yeast.xml and bacteria.xml add an excercise about science paper"
   ]
  },
  {
   "cell_type": "code",
   "execution_count": 249,
   "id": "72e4872d",
   "metadata": {},
   "outputs": [],
   "source": [
    "#import the needed packages\n",
    "import cobra\n",
    "import os\n",
    "import micom\n",
    "import pandas as pd\n",
    "import matplotlib.pyplot as plt\n",
    "import math\n",
    "\n",
    "#enable autocompleting with tab\n",
    "%config Completer.use_jedi = False"
   ]
  },
  {
   "cell_type": "markdown",
   "id": "87b3b02b",
   "metadata": {},
   "source": [
    "Now we are going to introduce community modelling with the case of study of the relationship between yeast and lactic acid bacteria. First let's do a step back. As you probably remember from what we learnt in the previous notebooks, yeast cannot grow using lactose as only carbon source. Can a lactic acid bacteria as the organims represented by the network (bacteria.xml) grow on this medium? "
   ]
  },
  {
   "cell_type": "code",
   "execution_count": 250,
   "id": "fd7775f8",
   "metadata": {
    "scrolled": true
   },
   "outputs": [
    {
     "data": {
      "text/html": [
       "<strong><em>Optimal</em> solution with objective value 0.000</strong><br><div>\n",
       "<style scoped>\n",
       "    .dataframe tbody tr th:only-of-type {\n",
       "        vertical-align: middle;\n",
       "    }\n",
       "\n",
       "    .dataframe tbody tr th {\n",
       "        vertical-align: top;\n",
       "    }\n",
       "\n",
       "    .dataframe thead th {\n",
       "        text-align: right;\n",
       "    }\n",
       "</style>\n",
       "<table border=\"1\" class=\"dataframe\">\n",
       "  <thead>\n",
       "    <tr style=\"text-align: right;\">\n",
       "      <th></th>\n",
       "      <th>fluxes</th>\n",
       "      <th>reduced_costs</th>\n",
       "    </tr>\n",
       "  </thead>\n",
       "  <tbody>\n",
       "    <tr>\n",
       "      <th>12DGR120tipp</th>\n",
       "      <td>0.0</td>\n",
       "      <td>0.0</td>\n",
       "    </tr>\n",
       "    <tr>\n",
       "      <th>12DGR140tipp</th>\n",
       "      <td>0.0</td>\n",
       "      <td>0.0</td>\n",
       "    </tr>\n",
       "    <tr>\n",
       "      <th>12DGR141tipp</th>\n",
       "      <td>0.0</td>\n",
       "      <td>0.0</td>\n",
       "    </tr>\n",
       "    <tr>\n",
       "      <th>12DGR160tipp</th>\n",
       "      <td>0.0</td>\n",
       "      <td>0.0</td>\n",
       "    </tr>\n",
       "    <tr>\n",
       "      <th>12DGR161tipp</th>\n",
       "      <td>0.0</td>\n",
       "      <td>0.0</td>\n",
       "    </tr>\n",
       "    <tr>\n",
       "      <th>...</th>\n",
       "      <td>...</td>\n",
       "      <td>...</td>\n",
       "    </tr>\n",
       "    <tr>\n",
       "      <th>GALt2</th>\n",
       "      <td>0.0</td>\n",
       "      <td>0.0</td>\n",
       "    </tr>\n",
       "    <tr>\n",
       "      <th>LCTStex</th>\n",
       "      <td>0.0</td>\n",
       "      <td>0.0</td>\n",
       "    </tr>\n",
       "    <tr>\n",
       "      <th>ALATA_L</th>\n",
       "      <td>0.0</td>\n",
       "      <td>0.0</td>\n",
       "    </tr>\n",
       "    <tr>\n",
       "      <th>SDPTA</th>\n",
       "      <td>0.0</td>\n",
       "      <td>0.0</td>\n",
       "    </tr>\n",
       "    <tr>\n",
       "      <th>TKT2</th>\n",
       "      <td>0.0</td>\n",
       "      <td>0.0</td>\n",
       "    </tr>\n",
       "  </tbody>\n",
       "</table>\n",
       "<p>1642 rows × 2 columns</p>\n",
       "</div>"
      ],
      "text/plain": [
       "<Solution 0.000 at 0x7fbf8163cfa0>"
      ]
     },
     "execution_count": 250,
     "metadata": {},
     "output_type": "execute_result"
    }
   ],
   "source": [
    "model = cobra.io.read_sbml_model(\"bacteria.xml\")\n",
    "model.optimize()"
   ]
  },
  {
   "cell_type": "code",
   "execution_count": 251,
   "id": "efec2953",
   "metadata": {},
   "outputs": [
    {
     "name": "stdout",
     "output_type": "stream",
     "text": [
      "dict_keys(['CDM35_lcts', 'CDM35_gal', 'CDM35_glc', 'CDM35_low_AA_lcts', 'CDM35_low_AA_gal', 'CDM35_low_AA_glc'])\n"
     ]
    }
   ],
   "source": [
    "with open(\"media.tsv\", \"r\") as f:\n",
    "    lines = f.readlines()\n",
    "\n",
    "data = [line.rstrip().split(\"\\t\") for line in lines]\n",
    "header, *rows = data\n",
    "\n",
    "medium_dict = {}\n",
    "for row in rows:\n",
    "    medium, _, compound, _ = row\n",
    "    medium_key = medium\n",
    "    compound_value = \"EX_\" + compound + \"_m\"\n",
    "\n",
    "    medium_dict.setdefault(medium_key, []).append(compound_value)\n",
    "\n",
    "print(medium_dict.keys())\n"
   ]
  },
  {
   "cell_type": "code",
   "execution_count": 252,
   "id": "9f476494",
   "metadata": {
    "scrolled": true
   },
   "outputs": [
    {
     "data": {
      "text/html": [
       "<pre style=\"white-space:pre;overflow-x:auto;line-height:normal;font-family:Menlo,'DejaVu Sans Mono',consolas,'Courier New',monospace\"><span style=\"color: #7fbfbf; text-decoration-color: #7fbfbf\">[11:23:16] </span><span style=\"color: #800000; text-decoration-color: #800000\">WARNING </span> Could not identify an external compartment by name   <a href=\"file:///Users/arianna/miniconda3/envs/carve_fungi/lib/python3.8/site-packages/cobra/medium/boundary_types.py\" target=\"_blank\"><span style=\"color: #7f7f7f; text-decoration-color: #7f7f7f\">boundary_types.py</span></a><span style=\"color: #7f7f7f; text-decoration-color: #7f7f7f\">:</span><a href=\"file:///Users/arianna/miniconda3/envs/carve_fungi/lib/python3.8/site-packages/cobra/medium/boundary_types.py#90\" target=\"_blank\"><span style=\"color: #7f7f7f; text-decoration-color: #7f7f7f\">90</span></a>\n",
       "<span style=\"color: #7fbfbf; text-decoration-color: #7fbfbf\">           </span>         and choosing one with the most boundary reactions.   <span style=\"color: #7f7f7f; text-decoration-color: #7f7f7f\">                    </span>\n",
       "<span style=\"color: #7fbfbf; text-decoration-color: #7fbfbf\">           </span>         That might be complete nonsense or change suddenly.  <span style=\"color: #7f7f7f; text-decoration-color: #7f7f7f\">                    </span>\n",
       "<span style=\"color: #7fbfbf; text-decoration-color: #7fbfbf\">           </span>         Consider renaming your compartments using            <span style=\"color: #7f7f7f; text-decoration-color: #7f7f7f\">                    </span>\n",
       "<span style=\"color: #7fbfbf; text-decoration-color: #7fbfbf\">           </span>         `Model.compartments` to fix this.                    <span style=\"color: #7f7f7f; text-decoration-color: #7f7f7f\">                    </span>\n",
       "</pre>\n"
      ],
      "text/plain": [
       "\u001b[2;36m[11:23:16]\u001b[0m\u001b[2;36m \u001b[0m\u001b[31mWARNING \u001b[0m Could not identify an external compartment by name   \u001b]8;id=598693;file:///Users/arianna/miniconda3/envs/carve_fungi/lib/python3.8/site-packages/cobra/medium/boundary_types.py\u001b\\\u001b[2mboundary_types.py\u001b[0m\u001b]8;;\u001b\\\u001b[2m:\u001b[0m\u001b]8;id=67342;file:///Users/arianna/miniconda3/envs/carve_fungi/lib/python3.8/site-packages/cobra/medium/boundary_types.py#90\u001b\\\u001b[2m90\u001b[0m\u001b]8;;\u001b\\\n",
       "\u001b[2;36m           \u001b[0m         and choosing one with the most boundary reactions.   \u001b[2m                    \u001b[0m\n",
       "\u001b[2;36m           \u001b[0m         That might be complete nonsense or change suddenly.  \u001b[2m                    \u001b[0m\n",
       "\u001b[2;36m           \u001b[0m         Consider renaming your compartments using            \u001b[2m                    \u001b[0m\n",
       "\u001b[2;36m           \u001b[0m         `Model.compartments` to fix this.                    \u001b[2m                    \u001b[0m\n"
      ]
     },
     "metadata": {},
     "output_type": "display_data"
    },
    {
     "data": {
      "text/html": [
       "<pre style=\"white-space:pre;overflow-x:auto;line-height:normal;font-family:Menlo,'DejaVu Sans Mono',consolas,'Courier New',monospace\"><span style=\"color: #7fbfbf; text-decoration-color: #7fbfbf\">           </span><span style=\"color: #800000; text-decoration-color: #800000\">WARNING </span> Could not identify an external compartment by name   <a href=\"file:///Users/arianna/miniconda3/envs/carve_fungi/lib/python3.8/site-packages/cobra/medium/boundary_types.py\" target=\"_blank\"><span style=\"color: #7f7f7f; text-decoration-color: #7f7f7f\">boundary_types.py</span></a><span style=\"color: #7f7f7f; text-decoration-color: #7f7f7f\">:</span><a href=\"file:///Users/arianna/miniconda3/envs/carve_fungi/lib/python3.8/site-packages/cobra/medium/boundary_types.py#90\" target=\"_blank\"><span style=\"color: #7f7f7f; text-decoration-color: #7f7f7f\">90</span></a>\n",
       "<span style=\"color: #7fbfbf; text-decoration-color: #7fbfbf\">           </span>         and choosing one with the most boundary reactions.   <span style=\"color: #7f7f7f; text-decoration-color: #7f7f7f\">                    </span>\n",
       "<span style=\"color: #7fbfbf; text-decoration-color: #7fbfbf\">           </span>         That might be complete nonsense or change suddenly.  <span style=\"color: #7f7f7f; text-decoration-color: #7f7f7f\">                    </span>\n",
       "<span style=\"color: #7fbfbf; text-decoration-color: #7fbfbf\">           </span>         Consider renaming your compartments using            <span style=\"color: #7f7f7f; text-decoration-color: #7f7f7f\">                    </span>\n",
       "<span style=\"color: #7fbfbf; text-decoration-color: #7fbfbf\">           </span>         `Model.compartments` to fix this.                    <span style=\"color: #7f7f7f; text-decoration-color: #7f7f7f\">                    </span>\n",
       "</pre>\n"
      ],
      "text/plain": [
       "\u001b[2;36m          \u001b[0m\u001b[2;36m \u001b[0m\u001b[31mWARNING \u001b[0m Could not identify an external compartment by name   \u001b]8;id=520319;file:///Users/arianna/miniconda3/envs/carve_fungi/lib/python3.8/site-packages/cobra/medium/boundary_types.py\u001b\\\u001b[2mboundary_types.py\u001b[0m\u001b]8;;\u001b\\\u001b[2m:\u001b[0m\u001b]8;id=782620;file:///Users/arianna/miniconda3/envs/carve_fungi/lib/python3.8/site-packages/cobra/medium/boundary_types.py#90\u001b\\\u001b[2m90\u001b[0m\u001b]8;;\u001b\\\n",
       "\u001b[2;36m           \u001b[0m         and choosing one with the most boundary reactions.   \u001b[2m                    \u001b[0m\n",
       "\u001b[2;36m           \u001b[0m         That might be complete nonsense or change suddenly.  \u001b[2m                    \u001b[0m\n",
       "\u001b[2;36m           \u001b[0m         Consider renaming your compartments using            \u001b[2m                    \u001b[0m\n",
       "\u001b[2;36m           \u001b[0m         `Model.compartments` to fix this.                    \u001b[2m                    \u001b[0m\n"
      ]
     },
     "metadata": {},
     "output_type": "display_data"
    },
    {
     "data": {
      "text/html": [
       "<strong><em>Optimal</em> solution with objective value 0.000</strong><br><div>\n",
       "<style scoped>\n",
       "    .dataframe tbody tr th:only-of-type {\n",
       "        vertical-align: middle;\n",
       "    }\n",
       "\n",
       "    .dataframe tbody tr th {\n",
       "        vertical-align: top;\n",
       "    }\n",
       "\n",
       "    .dataframe thead th {\n",
       "        text-align: right;\n",
       "    }\n",
       "</style>\n",
       "<table border=\"1\" class=\"dataframe\">\n",
       "  <thead>\n",
       "    <tr style=\"text-align: right;\">\n",
       "      <th></th>\n",
       "      <th>fluxes</th>\n",
       "      <th>reduced_costs</th>\n",
       "    </tr>\n",
       "  </thead>\n",
       "  <tbody>\n",
       "    <tr>\n",
       "      <th>12DGR120tipp</th>\n",
       "      <td>0.0</td>\n",
       "      <td>0.0</td>\n",
       "    </tr>\n",
       "    <tr>\n",
       "      <th>12DGR140tipp</th>\n",
       "      <td>0.0</td>\n",
       "      <td>0.0</td>\n",
       "    </tr>\n",
       "    <tr>\n",
       "      <th>12DGR141tipp</th>\n",
       "      <td>0.0</td>\n",
       "      <td>0.0</td>\n",
       "    </tr>\n",
       "    <tr>\n",
       "      <th>12DGR160tipp</th>\n",
       "      <td>0.0</td>\n",
       "      <td>0.0</td>\n",
       "    </tr>\n",
       "    <tr>\n",
       "      <th>12DGR161tipp</th>\n",
       "      <td>0.0</td>\n",
       "      <td>0.0</td>\n",
       "    </tr>\n",
       "    <tr>\n",
       "      <th>...</th>\n",
       "      <td>...</td>\n",
       "      <td>...</td>\n",
       "    </tr>\n",
       "    <tr>\n",
       "      <th>GALt2</th>\n",
       "      <td>0.0</td>\n",
       "      <td>0.0</td>\n",
       "    </tr>\n",
       "    <tr>\n",
       "      <th>LCTStex</th>\n",
       "      <td>0.0</td>\n",
       "      <td>0.0</td>\n",
       "    </tr>\n",
       "    <tr>\n",
       "      <th>ALATA_L</th>\n",
       "      <td>0.0</td>\n",
       "      <td>0.0</td>\n",
       "    </tr>\n",
       "    <tr>\n",
       "      <th>SDPTA</th>\n",
       "      <td>0.0</td>\n",
       "      <td>0.0</td>\n",
       "    </tr>\n",
       "    <tr>\n",
       "      <th>TKT2</th>\n",
       "      <td>0.0</td>\n",
       "      <td>0.0</td>\n",
       "    </tr>\n",
       "  </tbody>\n",
       "</table>\n",
       "<p>1642 rows × 2 columns</p>\n",
       "</div>"
      ],
      "text/plain": [
       "<Solution 0.000 at 0x7fbf947f1550>"
      ]
     },
     "execution_count": 252,
     "metadata": {},
     "output_type": "execute_result"
    }
   ],
   "source": [
    "medium={}\n",
    "for ele in medium_dict['CDM35_lcts']:\n",
    "    medium[ele.replace(\"_m\",\"_e\")]=1000\n",
    "    \n",
    "ids_reac=[reac.id for reac in model.reactions]\n",
    "v=list(medium.keys())\n",
    "for ele in v:\n",
    "    if ele not in ids_reac:\n",
    "        medium.pop(ele)\n",
    "\n",
    "model.medium=medium\n",
    "\n",
    "model.medium\n",
    "model.optimize()"
   ]
  },
  {
   "cell_type": "markdown",
   "id": "69def6bd",
   "metadata": {},
   "source": [
    "The medium we chose is limiting also for the growth of the bacterium because even if it can metabolise lactose, the medium we chose is a very simple medium without vitamins and with a poor content of aminoacids. But what happens when we combine the yeast and the lactic acid bacterium together? \n",
    "\n",
    "The interactions between yeast and lactic acid bacteria (LAB) are multifaceted and crucial in various biological processes, notably in the realms of fermentation and food production. In symbiotic relationships, yeast and LAB often coexist in fermented foods such as sourdough bread, yogurt, and certain types of cheese. One of the key interactions involves metabolic cooperation, where yeast and LAB engage in cross-feeding by utilizing each other's metabolic byproducts. "
   ]
  },
  {
   "cell_type": "code",
   "execution_count": 259,
   "id": "27d0b4d0",
   "metadata": {
    "scrolled": true
   },
   "outputs": [
    {
     "data": {
      "text/html": [
       "<pre style=\"white-space:pre;overflow-x:auto;line-height:normal;font-family:Menlo,'DejaVu Sans Mono',consolas,'Courier New',monospace\"><span style=\"color: #7fbfbf; text-decoration-color: #7fbfbf\">[11:24:53] </span><span style=\"color: #800000; text-decoration-color: #800000\">WARNING </span> Could not identify an external compartment by name   <a href=\"file:///Users/arianna/miniconda3/envs/carve_fungi/lib/python3.8/site-packages/cobra/medium/boundary_types.py\" target=\"_blank\"><span style=\"color: #7f7f7f; text-decoration-color: #7f7f7f\">boundary_types.py</span></a><span style=\"color: #7f7f7f; text-decoration-color: #7f7f7f\">:</span><a href=\"file:///Users/arianna/miniconda3/envs/carve_fungi/lib/python3.8/site-packages/cobra/medium/boundary_types.py#90\" target=\"_blank\"><span style=\"color: #7f7f7f; text-decoration-color: #7f7f7f\">90</span></a>\n",
       "<span style=\"color: #7fbfbf; text-decoration-color: #7fbfbf\">           </span>         and choosing one with the most boundary reactions.   <span style=\"color: #7f7f7f; text-decoration-color: #7f7f7f\">                    </span>\n",
       "<span style=\"color: #7fbfbf; text-decoration-color: #7fbfbf\">           </span>         That might be complete nonsense or change suddenly.  <span style=\"color: #7f7f7f; text-decoration-color: #7f7f7f\">                    </span>\n",
       "<span style=\"color: #7fbfbf; text-decoration-color: #7fbfbf\">           </span>         Consider renaming your compartments using            <span style=\"color: #7f7f7f; text-decoration-color: #7f7f7f\">                    </span>\n",
       "<span style=\"color: #7fbfbf; text-decoration-color: #7fbfbf\">           </span>         `Model.compartments` to fix this.                    <span style=\"color: #7f7f7f; text-decoration-color: #7f7f7f\">                    </span>\n",
       "</pre>\n"
      ],
      "text/plain": [
       "\u001b[2;36m[11:24:53]\u001b[0m\u001b[2;36m \u001b[0m\u001b[31mWARNING \u001b[0m Could not identify an external compartment by name   \u001b]8;id=261877;file:///Users/arianna/miniconda3/envs/carve_fungi/lib/python3.8/site-packages/cobra/medium/boundary_types.py\u001b\\\u001b[2mboundary_types.py\u001b[0m\u001b]8;;\u001b\\\u001b[2m:\u001b[0m\u001b]8;id=715399;file:///Users/arianna/miniconda3/envs/carve_fungi/lib/python3.8/site-packages/cobra/medium/boundary_types.py#90\u001b\\\u001b[2m90\u001b[0m\u001b]8;;\u001b\\\n",
       "\u001b[2;36m           \u001b[0m         and choosing one with the most boundary reactions.   \u001b[2m                    \u001b[0m\n",
       "\u001b[2;36m           \u001b[0m         That might be complete nonsense or change suddenly.  \u001b[2m                    \u001b[0m\n",
       "\u001b[2;36m           \u001b[0m         Consider renaming your compartments using            \u001b[2m                    \u001b[0m\n",
       "\u001b[2;36m           \u001b[0m         `Model.compartments` to fix this.                    \u001b[2m                    \u001b[0m\n"
      ]
     },
     "metadata": {},
     "output_type": "display_data"
    },
    {
     "data": {
      "text/html": [
       "<pre style=\"white-space:pre;overflow-x:auto;line-height:normal;font-family:Menlo,'DejaVu Sans Mono',consolas,'Courier New',monospace\"><span style=\"color: #7fbfbf; text-decoration-color: #7fbfbf\">           </span><span style=\"color: #800000; text-decoration-color: #800000\">WARNING </span> Could not identify an external compartment by name   <a href=\"file:///Users/arianna/miniconda3/envs/carve_fungi/lib/python3.8/site-packages/cobra/medium/boundary_types.py\" target=\"_blank\"><span style=\"color: #7f7f7f; text-decoration-color: #7f7f7f\">boundary_types.py</span></a><span style=\"color: #7f7f7f; text-decoration-color: #7f7f7f\">:</span><a href=\"file:///Users/arianna/miniconda3/envs/carve_fungi/lib/python3.8/site-packages/cobra/medium/boundary_types.py#90\" target=\"_blank\"><span style=\"color: #7f7f7f; text-decoration-color: #7f7f7f\">90</span></a>\n",
       "<span style=\"color: #7fbfbf; text-decoration-color: #7fbfbf\">           </span>         and choosing one with the most boundary reactions.   <span style=\"color: #7f7f7f; text-decoration-color: #7f7f7f\">                    </span>\n",
       "<span style=\"color: #7fbfbf; text-decoration-color: #7fbfbf\">           </span>         That might be complete nonsense or change suddenly.  <span style=\"color: #7f7f7f; text-decoration-color: #7f7f7f\">                    </span>\n",
       "<span style=\"color: #7fbfbf; text-decoration-color: #7fbfbf\">           </span>         Consider renaming your compartments using            <span style=\"color: #7f7f7f; text-decoration-color: #7f7f7f\">                    </span>\n",
       "<span style=\"color: #7fbfbf; text-decoration-color: #7fbfbf\">           </span>         `Model.compartments` to fix this.                    <span style=\"color: #7f7f7f; text-decoration-color: #7f7f7f\">                    </span>\n",
       "</pre>\n"
      ],
      "text/plain": [
       "\u001b[2;36m          \u001b[0m\u001b[2;36m \u001b[0m\u001b[31mWARNING \u001b[0m Could not identify an external compartment by name   \u001b]8;id=402712;file:///Users/arianna/miniconda3/envs/carve_fungi/lib/python3.8/site-packages/cobra/medium/boundary_types.py\u001b\\\u001b[2mboundary_types.py\u001b[0m\u001b]8;;\u001b\\\u001b[2m:\u001b[0m\u001b]8;id=611229;file:///Users/arianna/miniconda3/envs/carve_fungi/lib/python3.8/site-packages/cobra/medium/boundary_types.py#90\u001b\\\u001b[2m90\u001b[0m\u001b]8;;\u001b\\\n",
       "\u001b[2;36m           \u001b[0m         and choosing one with the most boundary reactions.   \u001b[2m                    \u001b[0m\n",
       "\u001b[2;36m           \u001b[0m         That might be complete nonsense or change suddenly.  \u001b[2m                    \u001b[0m\n",
       "\u001b[2;36m           \u001b[0m         Consider renaming your compartments using            \u001b[2m                    \u001b[0m\n",
       "\u001b[2;36m           \u001b[0m         `Model.compartments` to fix this.                    \u001b[2m                    \u001b[0m\n"
      ]
     },
     "metadata": {},
     "output_type": "display_data"
    },
    {
     "name": "stderr",
     "output_type": "stream",
     "text": [
      "/Users/arianna/miniconda3/envs/carve_fungi/lib/python3.8/site-packages/cobra/medium/minimal_medium.py:112: FutureWarning: The default dtype for empty Series will be 'object' instead of 'float64' in a future version. Specify a dtype explicitly to silence this warning.\n",
      "  medium = pd.Series()\n"
     ]
    },
    {
     "data": {
      "text/plain": [
       "EX_2pglyc_e       14.409412\n",
       "EX_leu__L_e       13.150256\n",
       "EX_cl_e            0.151925\n",
       "EX_pi_e            8.535344\n",
       "EX_adn_e           5.963092\n",
       "EX_asn__L_e        7.035997\n",
       "EX_ser__L_e        7.078291\n",
       "EX_thr__L_e        7.404704\n",
       "EX_arg__L_e        8.633680\n",
       "EX_fe3_e           0.227903\n",
       "EX_lys__L_e       10.016303\n",
       "EX_asp__L_e        7.035997\n",
       "EX_phe__L_e        5.407579\n",
       "EX_k_e             5.697361\n",
       "EX_bz_e            0.002919\n",
       "EX_ca2_e           0.151925\n",
       "EX_mg2_e           0.253209\n",
       "EX_mn2_e           0.020169\n",
       "EX_cobalt2_e       0.002919\n",
       "EX_zn2_e           0.009953\n",
       "EX_cu2_e           0.020695\n",
       "EX_o2_e          646.895123\n",
       "EX_glu__L_e       19.127679\n",
       "EX_fe2_e           0.196000\n",
       "EX_fol_e           0.019527\n",
       "EX_gthrd_e         2.689881\n",
       "EX_glycogen_e    672.618808\n",
       "EX_gua_e           7.079896\n",
       "EX_his__L_e        2.765246\n",
       "EX_ile__L_e        8.480062\n",
       "EX_met__L_e        4.492349\n",
       "EX_uaagmda_e       2.918835\n",
       "EX_nac_e           0.066491\n",
       "EX_no_e          275.690372\n",
       "EX_uri_e           9.655360\n",
       "EX_pnto__R_e       0.016812\n",
       "EX_pydxn_e         0.006509\n",
       "EX_so4_e           0.126619\n",
       "EX_trp__L_e        1.659153\n",
       "EX_tyr__L_e        4.024956\n",
       "EX_val__L_e       12.351400\n",
       "EX_thm_e           0.006509\n",
       "dtype: float64"
      ]
     },
     "execution_count": 259,
     "metadata": {},
     "output_type": "execute_result"
    }
   ],
   "source": [
    "from cobra.medium import minimal_medium\n",
    "max_growth = yeast.slim_optimize()\n",
    "minimal_medium(yeast, max_growth)"
   ]
  },
  {
   "cell_type": "code",
   "execution_count": 42,
   "id": "f7048640",
   "metadata": {},
   "outputs": [
    {
     "data": {
      "text/plain": [
       "30.14020579649836"
      ]
     },
     "execution_count": 42,
     "metadata": {},
     "output_type": "execute_result"
    }
   ],
   "source": [
    "max_growth"
   ]
  },
  {
   "cell_type": "code",
   "execution_count": 82,
   "id": "4985f055",
   "metadata": {},
   "outputs": [],
   "source": [
    "cobra.io.write_sbml_model(yeast,\"yeast.xml\")"
   ]
  },
  {
   "cell_type": "markdown",
   "id": "09985e12",
   "metadata": {},
   "source": [
    "### 3.1 Community modelling"
   ]
  },
  {
   "attachments": {
    "summary.png": {
     "image/png": "[encoded data removed]"
    }
   },
   "cell_type": "markdown",
   "id": "c43f5d90",
   "metadata": {},
   "source": [
    "![summary.png](attachment:summary.png)\n",
    "\n",
    "There are many frameworks for microbial modeling and all make their own specific assumptions in order to fit microbial communities into a mathematical representation. This is an overview about the assumptions MICOM makes and how it translates the community into mathematical terms.\n",
    "In general MICOM makes several assumptions to infer growth rates and fluxes in a microbial community. The most important ones being:\n",
    "<ul>\n",
    "<li>Growth rates and relative abundances in the community are in steady state </li>\n",
    "<li>Most taxa that are present in a biological sample should be able to grow (have a growth rate >0)</li>\n",
    "<li>Relative DNA abundances can be used as a proxy for dry weight taxa abundances </li>\n",
    "</ul>\n",
    "\n",
    "Here is a link to the <a href=\"https://micom-dev.github.io/micom/index.html\">micom documentation</a> "
   ]
  },
  {
   "cell_type": "code",
   "execution_count": 253,
   "id": "2da0b5dd",
   "metadata": {},
   "outputs": [
    {
     "name": "stdout",
     "output_type": "stream",
     "text": [
      "['yeast.xml', 'bacteria.xml']\n"
     ]
    }
   ],
   "source": [
    "#get a list of the models we will work on\n",
    "files = [file for file in os.listdir(\".\") if file.endswith(\".xml\")]\n",
    "print(files)"
   ]
  },
  {
   "cell_type": "code",
   "execution_count": 254,
   "id": "20c8a344",
   "metadata": {
    "scrolled": true
   },
   "outputs": [
    {
     "data": {
      "text/html": [
       "<pre style=\"white-space:pre;overflow-x:auto;line-height:normal;font-family:Menlo,'DejaVu Sans Mono',consolas,'Courier New',monospace\"><span style=\"color: #7fbfbf; text-decoration-color: #7fbfbf\">[11:23:23] </span><span style=\"color: #800000; text-decoration-color: #800000\">WARNING </span> No QP solver found, will use GLPK. A lot of              <a href=\"file:///Users/arianna/miniconda3/envs/carve_fungi/lib/python3.8/site-packages/micom/community.py\" target=\"_blank\"><span style=\"color: #7f7f7f; text-decoration-color: #7f7f7f\">community.py</span></a><span style=\"color: #7f7f7f; text-decoration-color: #7f7f7f\">:</span><a href=\"file:///Users/arianna/miniconda3/envs/carve_fungi/lib/python3.8/site-packages/micom/community.py#145\" target=\"_blank\"><span style=\"color: #7f7f7f; text-decoration-color: #7f7f7f\">145</span></a>\n",
       "<span style=\"color: #7fbfbf; text-decoration-color: #7fbfbf\">           </span>         functionality in MICOM will require a QP solver :<span style=\"color: #800080; text-decoration-color: #800080\">/</span>       <span style=\"color: #7f7f7f; text-decoration-color: #7f7f7f\">                </span>\n",
       "</pre>\n"
      ],
      "text/plain": [
       "\u001b[2;36m[11:23:23]\u001b[0m\u001b[2;36m \u001b[0m\u001b[31mWARNING \u001b[0m No QP solver found, will use GLPK. A lot of              \u001b]8;id=877080;file:///Users/arianna/miniconda3/envs/carve_fungi/lib/python3.8/site-packages/micom/community.py\u001b\\\u001b[2mcommunity.py\u001b[0m\u001b]8;;\u001b\\\u001b[2m:\u001b[0m\u001b]8;id=681401;file:///Users/arianna/miniconda3/envs/carve_fungi/lib/python3.8/site-packages/micom/community.py#145\u001b\\\u001b[2m145\u001b[0m\u001b]8;;\u001b\\\n",
       "\u001b[2;36m           \u001b[0m         functionality in MICOM will require a QP solver :\u001b[35m/\u001b[0m       \u001b[2m                \u001b[0m\n"
      ]
     },
     "metadata": {},
     "output_type": "display_data"
    },
    {
     "data": {
      "application/vnd.jupyter.widget-view+json": {
       "model_id": "befb10090cc94860bdc6e8f97083c6b9",
       "version_major": 2,
       "version_minor": 0
      },
      "text/plain": [
       "Output()"
      ]
     },
     "metadata": {},
     "output_type": "display_data"
    },
    {
     "data": {
      "text/html": [
       "<pre style=\"white-space:pre;overflow-x:auto;line-height:normal;font-family:Menlo,'DejaVu Sans Mono',consolas,'Courier New',monospace\"><span style=\"color: #7fbfbf; text-decoration-color: #7fbfbf\">[11:23:27] </span><span style=\"color: #800000; text-decoration-color: #800000\">WARNING </span> Could not identify an external compartment by name   <a href=\"file:///Users/arianna/miniconda3/envs/carve_fungi/lib/python3.8/site-packages/cobra/medium/boundary_types.py\" target=\"_blank\"><span style=\"color: #7f7f7f; text-decoration-color: #7f7f7f\">boundary_types.py</span></a><span style=\"color: #7f7f7f; text-decoration-color: #7f7f7f\">:</span><a href=\"file:///Users/arianna/miniconda3/envs/carve_fungi/lib/python3.8/site-packages/cobra/medium/boundary_types.py#90\" target=\"_blank\"><span style=\"color: #7f7f7f; text-decoration-color: #7f7f7f\">90</span></a>\n",
       "<span style=\"color: #7fbfbf; text-decoration-color: #7fbfbf\">           </span>         and choosing one with the most boundary reactions.   <span style=\"color: #7f7f7f; text-decoration-color: #7f7f7f\">                    </span>\n",
       "<span style=\"color: #7fbfbf; text-decoration-color: #7fbfbf\">           </span>         That might be complete nonsense or change suddenly.  <span style=\"color: #7f7f7f; text-decoration-color: #7f7f7f\">                    </span>\n",
       "<span style=\"color: #7fbfbf; text-decoration-color: #7fbfbf\">           </span>         Consider renaming your compartments using            <span style=\"color: #7f7f7f; text-decoration-color: #7f7f7f\">                    </span>\n",
       "<span style=\"color: #7fbfbf; text-decoration-color: #7fbfbf\">           </span>         `Model.compartments` to fix this.                    <span style=\"color: #7f7f7f; text-decoration-color: #7f7f7f\">                    </span>\n",
       "</pre>\n"
      ],
      "text/plain": [
       "\u001b[2;36m[11:23:27]\u001b[0m\u001b[2;36m \u001b[0m\u001b[31mWARNING \u001b[0m Could not identify an external compartment by name   \u001b]8;id=128383;file:///Users/arianna/miniconda3/envs/carve_fungi/lib/python3.8/site-packages/cobra/medium/boundary_types.py\u001b\\\u001b[2mboundary_types.py\u001b[0m\u001b]8;;\u001b\\\u001b[2m:\u001b[0m\u001b]8;id=568541;file:///Users/arianna/miniconda3/envs/carve_fungi/lib/python3.8/site-packages/cobra/medium/boundary_types.py#90\u001b\\\u001b[2m90\u001b[0m\u001b]8;;\u001b\\\n",
       "\u001b[2;36m           \u001b[0m         and choosing one with the most boundary reactions.   \u001b[2m                    \u001b[0m\n",
       "\u001b[2;36m           \u001b[0m         That might be complete nonsense or change suddenly.  \u001b[2m                    \u001b[0m\n",
       "\u001b[2;36m           \u001b[0m         Consider renaming your compartments using            \u001b[2m                    \u001b[0m\n",
       "\u001b[2;36m           \u001b[0m         `Model.compartments` to fix this.                    \u001b[2m                    \u001b[0m\n"
      ]
     },
     "metadata": {},
     "output_type": "display_data"
    },
    {
     "data": {
      "text/html": [
       "<pre style=\"white-space:pre;overflow-x:auto;line-height:normal;font-family:Menlo,'DejaVu Sans Mono',consolas,'Courier New',monospace\"></pre>\n"
      ],
      "text/plain": []
     },
     "metadata": {},
     "output_type": "display_data"
    },
    {
     "data": {
      "text/html": [
       "<pre style=\"white-space:pre;overflow-x:auto;line-height:normal;font-family:Menlo,'DejaVu Sans Mono',consolas,'Courier New',monospace\">\n",
       "</pre>\n"
      ],
      "text/plain": [
       "\n"
      ]
     },
     "metadata": {},
     "output_type": "display_data"
    }
   ],
   "source": [
    "# Create a DataFrame with the info you need to create a community in micom\n",
    "data = {'id': [files[0].replace(\".xml\", \"\"), files[1].replace(\".xml\", \"\")],\n",
    "        'file': [files[0], files[1]]}\n",
    "df = pd.DataFrame(data)\n",
    "\n",
    "# Create the community with the microbial species listed in the DataFrame\n",
    "com = micom.Community(df,solver=\"glpk\")\n"
   ]
  },
  {
   "cell_type": "markdown",
   "id": "67609ec2",
   "metadata": {},
   "source": [
    "Inspect the medium. The default medium is a rich medium which maximizes the growth rates of both partners. Therefore, we expect a limited number of exchanges."
   ]
  },
  {
   "cell_type": "code",
   "execution_count": 255,
   "id": "f3fe4a73",
   "metadata": {
    "scrolled": true
   },
   "outputs": [
    {
     "data": {
      "text/plain": [
       "{'EX_12ppd__S_m': 1000.0,\n",
       " 'EX_glc__D_m': 1000.0,\n",
       " 'EX_h2o_m': 1000.0,\n",
       " 'EX_2dhglcn_m': 1000.0,\n",
       " 'EX_h_m': 1000.0,\n",
       " 'EX_2pglyc_m': 1000.0,\n",
       " 'EX_34dhbz_m': 1000.0,\n",
       " 'EX_leu__L_m': 1000.0,\n",
       " 'EX_ala__L_m': 1000.0,\n",
       " 'EX_cl_m': 1000.0,\n",
       " 'EX_arab__L_m': 1000.0,\n",
       " 'EX_4abut_m': 1000.0,\n",
       " 'EX_acald_m': 1000.0,\n",
       " 'EX_acgam_m': 1000.0,\n",
       " 'EX_ac_m': 1000.0,\n",
       " 'EX_chol_m': 1000.0,\n",
       " 'EX_pi_m': 1000.0,\n",
       " 'EX_actn__R_m': 1000.0,\n",
       " 'EX_adn_m': 1000.0,\n",
       " 'EX_nh4_m': 1000.0,\n",
       " 'EX_ade_m': 1000.0,\n",
       " 'EX_alaala_m': 1000.0,\n",
       " 'EX_asn__L_m': 1000.0,\n",
       " 'EX_gly_m': 1000.0,\n",
       " 'EX_ser__L_m': 1000.0,\n",
       " 'EX_thr__L_m': 1000.0,\n",
       " 'EX_arg__L_m': 1000.0,\n",
       " 'EX_alltn_m': 1000.0,\n",
       " 'EX_malt_m': 1000.0,\n",
       " 'EX_malttr_m': 1000.0,\n",
       " 'EX_anhgm_m': 1000.0,\n",
       " 'EX_arab__D_m': 1000.0,\n",
       " 'EX_fe3_m': 1000.0,\n",
       " 'EX_lys__L_m': 1000.0,\n",
       " 'EX_orn_m': 1000.0,\n",
       " 'EX_asp__L_m': 1000.0,\n",
       " 'EX_phe__L_m': 1000.0,\n",
       " 'EX_aso3_m': 1000.0,\n",
       " 'EX_aso4_m': 1000.0,\n",
       " 'EX_k_m': 1000.0,\n",
       " 'EX_pro__L_m': 1000.0,\n",
       " 'EX_cellb_m': 1000.0,\n",
       " 'EX_bz_m': 1000.0,\n",
       " 'EX_ca2_m': 1000.0,\n",
       " 'EX_cit_m': 1000.0,\n",
       " 'EX_mg2_m': 1000.0,\n",
       " 'EX_mn2_m': 1000.0,\n",
       " 'EX_cobalt2_m': 1000.0,\n",
       " 'EX_zn2_m': 1000.0,\n",
       " 'EX_for_m': 1000.0,\n",
       " 'EX_co2_m': 1000.0,\n",
       " 'EX_csn_m': 1000.0,\n",
       " 'EX_cu2_m': 1000.0,\n",
       " 'EX_o2_m': 1000.0,\n",
       " 'EX_glu__L_m': 1000.0,\n",
       " 'EX_cytd_m': 1000.0,\n",
       " 'EX_2ddglcn_m': 1000.0,\n",
       " 'EX_dha_m': 1000.0,\n",
       " 'EX_lac__D_m': 1000.0,\n",
       " 'EX_drib_m': 1000.0,\n",
       " 'EX_etha_m': 1000.0,\n",
       " 'EX_fe2_m': 1000.0,\n",
       " 'EX_enter_m': 1000.0,\n",
       " 'EX_feenter_m': 1000.0,\n",
       " 'EX_fol_m': 1000.0,\n",
       " 'EX_g3pc_m': 1000.0,\n",
       " 'EX_g3pe_m': 1000.0,\n",
       " 'EX_g3pg_m': 1000.0,\n",
       " 'EX_gal_m': 1000.0,\n",
       " 'EX_galt_m': 1000.0,\n",
       " 'EX_gthrd_m': 1000.0,\n",
       " 'EX_glcur_m': 1000.0,\n",
       " 'EX_glyald_m': 1000.0,\n",
       " 'EX_glyclt_m': 1000.0,\n",
       " 'EX_glycogen_m': 1000.0,\n",
       " 'EX_glyc_m': 1000.0,\n",
       " 'EX_gua_m': 1000.0,\n",
       " 'EX_pheme_m': 1000.0,\n",
       " 'EX_his__L_m': 1000.0,\n",
       " 'EX_4hphac_m': 1000.0,\n",
       " 'EX_taur_m': 1000.0,\n",
       " 'EX_ile__L_m': 1000.0,\n",
       " 'EX_inost_m': 1000.0,\n",
       " 'EX_kdo2lipid4_m': 1000.0,\n",
       " 'EX_lipa_m': 1000.0,\n",
       " 'EX_lac__L_m': 1000.0,\n",
       " 'EX_lmn2_m': 1000.0,\n",
       " 'EX_lmn30_m': 1000.0,\n",
       " 'EX_malthp_m': 1000.0,\n",
       " 'EX_malthx_m': 1000.0,\n",
       " 'EX_maltpt_m': 1000.0,\n",
       " 'EX_maltttr_m': 1000.0,\n",
       " 'EX_man_m': 1000.0,\n",
       " 'EX_melib_m': 1000.0,\n",
       " 'EX_met__L_m': 1000.0,\n",
       " 'EX_uaagmda_m': 1000.0,\n",
       " 'EX_mso3_m': 1000.0,\n",
       " 'EX_n2o_m': 1000.0,\n",
       " 'EX_nac_m': 1000.0,\n",
       " 'EX_no3_m': 1000.0,\n",
       " 'EX_no_m': 1000.0,\n",
       " 'EX_uri_m': 1000.0,\n",
       " 'EX_o16a4colipa_m': 1000.0,\n",
       " 'EX_pac_m': 1000.0,\n",
       " 'EX_pdima_m': 1000.0,\n",
       " 'EX_pnto__R_m': 1000.0,\n",
       " 'EX_ptrc_m': 1000.0,\n",
       " 'EX_pydxn_m': 1000.0,\n",
       " 'EX_pyr_m': 1000.0,\n",
       " 'EX_so4_m': 1000.0,\n",
       " 'EX_trp__L_m': 1000.0,\n",
       " 'EX_tyr__L_m': 1000.0,\n",
       " 'EX_val__L_m': 1000.0,\n",
       " 'EX_raffin_m': 1000.0,\n",
       " 'EX_spmd_m': 1000.0,\n",
       " 'EX_urea_m': 1000.0,\n",
       " 'EX_rib__D_m': 1000.0,\n",
       " 'EX_srb__L_m': 1000.0,\n",
       " 'EX_s_m': 1000.0,\n",
       " 'EX_sucr_m': 1000.0,\n",
       " 'EX_thm_m': 1000.0,\n",
       " 'EX_tre_m': 1000.0,\n",
       " 'EX_ura_m': 1000.0,\n",
       " 'EX_xyl__D_m': 1000.0,\n",
       " 'EX_lcts_m': 1000.0}"
      ]
     },
     "execution_count": 255,
     "metadata": {},
     "output_type": "execute_result"
    }
   ],
   "source": [
    "com.medium"
   ]
  },
  {
   "cell_type": "markdown",
   "id": "a2f73d79",
   "metadata": {},
   "source": [
    "Now we want to change the feedstock using pre-defined media."
   ]
  },
  {
   "cell_type": "code",
   "execution_count": 256,
   "id": "5d9f6b27",
   "metadata": {},
   "outputs": [
    {
     "name": "stdout",
     "output_type": "stream",
     "text": [
      "dict_keys(['CDM35_lcts', 'CDM35_gal', 'CDM35_glc', 'CDM35_low_AA_lcts', 'CDM35_low_AA_gal', 'CDM35_low_AA_glc'])\n"
     ]
    }
   ],
   "source": [
    "with open(\"media.tsv\", \"r\") as f:\n",
    "    lines = f.readlines()\n",
    "\n",
    "data = [line.rstrip().split(\"\\t\") for line in lines]\n",
    "header, *rows = data\n",
    "\n",
    "medium_dict = {}\n",
    "for row in rows:\n",
    "    medium, _, compound, _ = row\n",
    "    medium_key = medium\n",
    "    compound_value = \"EX_\" + compound + \"_m\"\n",
    "\n",
    "    medium_dict.setdefault(medium_key, []).append(compound_value)\n",
    "\n",
    "print(medium_dict.keys())\n"
   ]
  },
  {
   "cell_type": "markdown",
   "id": "37d77d29",
   "metadata": {},
   "source": [
    "We choose CDM35_gal as our medium for growth of the community "
   ]
  },
  {
   "cell_type": "code",
   "execution_count": 257,
   "id": "5de304c6",
   "metadata": {
    "scrolled": true
   },
   "outputs": [
    {
     "data": {
      "text/html": [
       "<pre style=\"white-space:pre;overflow-x:auto;line-height:normal;font-family:Menlo,'DejaVu Sans Mono',consolas,'Courier New',monospace\"><span style=\"color: #7fbfbf; text-decoration-color: #7fbfbf\">[11:23:28] </span><span style=\"color: #800000; text-decoration-color: #800000\">WARNING </span> I could not find the following exchanges in your model:  <a href=\"file:///Users/arianna/miniconda3/envs/carve_fungi/lib/python3.8/site-packages/micom/community.py\" target=\"_blank\"><span style=\"color: #7f7f7f; text-decoration-color: #7f7f7f\">community.py</span></a><span style=\"color: #7f7f7f; text-decoration-color: #7f7f7f\">:</span><a href=\"file:///Users/arianna/miniconda3/envs/carve_fungi/lib/python3.8/site-packages/micom/community.py#669\" target=\"_blank\"><span style=\"color: #7f7f7f; text-decoration-color: #7f7f7f\">669</span></a>\n",
       "<span style=\"color: #7fbfbf; text-decoration-color: #7fbfbf\">           </span>         EX_iodine_m                                              <span style=\"color: #7f7f7f; text-decoration-color: #7f7f7f\">                </span>\n",
       "</pre>\n"
      ],
      "text/plain": [
       "\u001b[2;36m[11:23:28]\u001b[0m\u001b[2;36m \u001b[0m\u001b[31mWARNING \u001b[0m I could not find the following exchanges in your model:  \u001b]8;id=4627;file:///Users/arianna/miniconda3/envs/carve_fungi/lib/python3.8/site-packages/micom/community.py\u001b\\\u001b[2mcommunity.py\u001b[0m\u001b]8;;\u001b\\\u001b[2m:\u001b[0m\u001b]8;id=216389;file:///Users/arianna/miniconda3/envs/carve_fungi/lib/python3.8/site-packages/micom/community.py#669\u001b\\\u001b[2m669\u001b[0m\u001b]8;;\u001b\\\n",
       "\u001b[2;36m           \u001b[0m         EX_iodine_m                                              \u001b[2m                \u001b[0m\n"
      ]
     },
     "metadata": {},
     "output_type": "display_data"
    },
    {
     "data": {
      "text/plain": [
       "{'EX_h2o_m': 1000,\n",
       " 'EX_h_m': 1000,\n",
       " 'EX_leu__L_m': 1000,\n",
       " 'EX_ala__L_m': 1000,\n",
       " 'EX_cl_m': 1000,\n",
       " 'EX_ac_m': 1000,\n",
       " 'EX_pi_m': 1000,\n",
       " 'EX_nh4_m': 1000,\n",
       " 'EX_asn__L_m': 1000,\n",
       " 'EX_gly_m': 1000,\n",
       " 'EX_ser__L_m': 1000,\n",
       " 'EX_thr__L_m': 1000,\n",
       " 'EX_arg__L_m': 1000,\n",
       " 'EX_fe3_m': 1000,\n",
       " 'EX_lys__L_m': 1000,\n",
       " 'EX_orn_m': 1000,\n",
       " 'EX_asp__L_m': 1000,\n",
       " 'EX_k_m': 1000,\n",
       " 'EX_pro__L_m': 1000,\n",
       " 'EX_ca2_m': 1000,\n",
       " 'EX_mg2_m': 1000,\n",
       " 'EX_mn2_m': 1000,\n",
       " 'EX_cobalt2_m': 1000,\n",
       " 'EX_zn2_m': 1000,\n",
       " 'EX_co2_m': 1000,\n",
       " 'EX_cu2_m': 1000,\n",
       " 'EX_o2_m': 1000,\n",
       " 'EX_glu__L_m': 1000,\n",
       " 'EX_fe2_m': 1000,\n",
       " 'EX_feenter_m': 1000,\n",
       " 'EX_his__L_m': 1000,\n",
       " 'EX_ile__L_m': 1000,\n",
       " 'EX_met__L_m': 1000,\n",
       " 'EX_so4_m': 1000,\n",
       " 'EX_tyr__L_m': 1000,\n",
       " 'EX_val__L_m': 1000,\n",
       " 'EX_thm_m': 1000,\n",
       " 'EX_lcts_m': 1000}"
      ]
     },
     "execution_count": 257,
     "metadata": {},
     "output_type": "execute_result"
    }
   ],
   "source": [
    "medium={}\n",
    "for ele in medium_dict['CDM35_lcts']:\n",
    "    medium[ele]=1000\n",
    "\n",
    "com.medium=medium\n",
    "\n",
    "com.medium"
   ]
  },
  {
   "cell_type": "markdown",
   "id": "0b17b7bb",
   "metadata": {},
   "source": [
    "Now we optimize for the community growth "
   ]
  },
  {
   "cell_type": "code",
   "execution_count": 258,
   "id": "effd99ec",
   "metadata": {},
   "outputs": [
    {
     "data": {
      "text/html": [
       "<strong>community growth:</strong> 5.468<br><strong>status:</strong> optimal<br><strong>taxa:</strong><div>\n",
       "<style scoped>\n",
       "    .dataframe tbody tr th:only-of-type {\n",
       "        vertical-align: middle;\n",
       "    }\n",
       "\n",
       "    .dataframe tbody tr th {\n",
       "        vertical-align: top;\n",
       "    }\n",
       "\n",
       "    .dataframe thead th {\n",
       "        text-align: right;\n",
       "    }\n",
       "</style>\n",
       "<table border=\"1\" class=\"dataframe\">\n",
       "  <thead>\n",
       "    <tr style=\"text-align: right;\">\n",
       "      <th></th>\n",
       "      <th>abundance</th>\n",
       "      <th>growth_rate</th>\n",
       "      <th>reactions</th>\n",
       "      <th>metabolites</th>\n",
       "    </tr>\n",
       "    <tr>\n",
       "      <th>compartments</th>\n",
       "      <th></th>\n",
       "      <th></th>\n",
       "      <th></th>\n",
       "      <th></th>\n",
       "    </tr>\n",
       "  </thead>\n",
       "  <tbody>\n",
       "    <tr>\n",
       "      <th>bacteria</th>\n",
       "      <td>0.5</td>\n",
       "      <td>1.093580e+01</td>\n",
       "      <td>1642</td>\n",
       "      <td>1157</td>\n",
       "    </tr>\n",
       "    <tr>\n",
       "      <th>medium</th>\n",
       "      <td>NaN</td>\n",
       "      <td>NaN</td>\n",
       "      <td>208</td>\n",
       "      <td>208</td>\n",
       "    </tr>\n",
       "    <tr>\n",
       "      <th>yeast</th>\n",
       "      <td>0.5</td>\n",
       "      <td>1.051217e-16</td>\n",
       "      <td>1228</td>\n",
       "      <td>937</td>\n",
       "    </tr>\n",
       "  </tbody>\n",
       "</table>\n",
       "</div>"
      ],
      "text/plain": [
       "<CommunitySolution 5.468 at 0x7fbf8d4cdac0>"
      ]
     },
     "execution_count": 258,
     "metadata": {},
     "output_type": "execute_result"
    }
   ],
   "source": [
    "#let's optimize using the function optimize which doesn't require commercial solvers\n",
    "\n",
    "sol=com.optimize(fluxes=True)\n",
    "sol\n"
   ]
  },
  {
   "cell_type": "markdown",
   "id": "00b10d5d",
   "metadata": {},
   "source": [
    "## Questions\n",
    "1. We want to filter the matrix sol.fluxes looking for the reactions starting with \"EX\" which we know representing the exchanges, how would you do? "
   ]
  },
  {
   "cell_type": "code",
   "execution_count": 157,
   "id": "e928fb60",
   "metadata": {},
   "outputs": [],
   "source": [
    "#code here\n",
    "\n"
   ]
  },
  {
   "cell_type": "markdown",
   "id": "3963dc2b",
   "metadata": {},
   "source": [
    "### Tip\n",
    "The object sol.fluxes is a pandas DataFrame"
   ]
  },
  {
   "cell_type": "markdown",
   "id": "e9bdadd9",
   "metadata": {},
   "source": [
    "----------"
   ]
  },
  {
   "cell_type": "markdown",
   "id": "bc3128ca",
   "metadata": {},
   "source": [
    "### 3.2 Using pandas to analyse our results"
   ]
  },
  {
   "cell_type": "code",
   "execution_count": 222,
   "id": "ba93a77b",
   "metadata": {},
   "outputs": [
    {
     "data": {
      "text/html": [
       "<div>\n",
       "<style scoped>\n",
       "    .dataframe tbody tr th:only-of-type {\n",
       "        vertical-align: middle;\n",
       "    }\n",
       "\n",
       "    .dataframe tbody tr th {\n",
       "        vertical-align: top;\n",
       "    }\n",
       "\n",
       "    .dataframe thead th {\n",
       "        text-align: right;\n",
       "    }\n",
       "</style>\n",
       "<table border=\"1\" class=\"dataframe\">\n",
       "  <thead>\n",
       "    <tr style=\"text-align: right;\">\n",
       "      <th>reaction</th>\n",
       "      <th>EX_12ppd__S_e</th>\n",
       "      <th>EX_12ppd__S_m</th>\n",
       "      <th>EX_14glucan_e</th>\n",
       "      <th>EX_14glucan_m</th>\n",
       "      <th>EX_23camp_e</th>\n",
       "      <th>EX_23camp_m</th>\n",
       "      <th>EX_23ccmp_e</th>\n",
       "      <th>EX_23ccmp_m</th>\n",
       "      <th>EX_23cgmp_e</th>\n",
       "      <th>EX_23cgmp_m</th>\n",
       "      <th>...</th>\n",
       "      <th>EX_val__L_e</th>\n",
       "      <th>EX_val__L_m</th>\n",
       "      <th>EX_xan_e</th>\n",
       "      <th>EX_xan_m</th>\n",
       "      <th>EX_xyl__D_e</th>\n",
       "      <th>EX_xyl__D_m</th>\n",
       "      <th>EX_xylan4_e</th>\n",
       "      <th>EX_xylan4_m</th>\n",
       "      <th>EX_zn2_e</th>\n",
       "      <th>EX_zn2_m</th>\n",
       "    </tr>\n",
       "    <tr>\n",
       "      <th>compartment</th>\n",
       "      <th></th>\n",
       "      <th></th>\n",
       "      <th></th>\n",
       "      <th></th>\n",
       "      <th></th>\n",
       "      <th></th>\n",
       "      <th></th>\n",
       "      <th></th>\n",
       "      <th></th>\n",
       "      <th></th>\n",
       "      <th></th>\n",
       "      <th></th>\n",
       "      <th></th>\n",
       "      <th></th>\n",
       "      <th></th>\n",
       "      <th></th>\n",
       "      <th></th>\n",
       "      <th></th>\n",
       "      <th></th>\n",
       "      <th></th>\n",
       "      <th></th>\n",
       "    </tr>\n",
       "  </thead>\n",
       "  <tbody>\n",
       "    <tr>\n",
       "      <th>bacteria</th>\n",
       "      <td>NaN</td>\n",
       "      <td>NaN</td>\n",
       "      <td>0.0</td>\n",
       "      <td>NaN</td>\n",
       "      <td>0.0</td>\n",
       "      <td>NaN</td>\n",
       "      <td>0.0</td>\n",
       "      <td>NaN</td>\n",
       "      <td>0.0</td>\n",
       "      <td>NaN</td>\n",
       "      <td>...</td>\n",
       "      <td>-4.48147</td>\n",
       "      <td>NaN</td>\n",
       "      <td>0.0</td>\n",
       "      <td>NaN</td>\n",
       "      <td>0.0</td>\n",
       "      <td>NaN</td>\n",
       "      <td>0.0</td>\n",
       "      <td>NaN</td>\n",
       "      <td>-3.611339e-03</td>\n",
       "      <td>NaN</td>\n",
       "    </tr>\n",
       "    <tr>\n",
       "      <th>medium</th>\n",
       "      <td>NaN</td>\n",
       "      <td>-0.0</td>\n",
       "      <td>NaN</td>\n",
       "      <td>0.0</td>\n",
       "      <td>NaN</td>\n",
       "      <td>0.0</td>\n",
       "      <td>NaN</td>\n",
       "      <td>0.0</td>\n",
       "      <td>NaN</td>\n",
       "      <td>0.0</td>\n",
       "      <td>...</td>\n",
       "      <td>NaN</td>\n",
       "      <td>-2.243785</td>\n",
       "      <td>NaN</td>\n",
       "      <td>0.0</td>\n",
       "      <td>NaN</td>\n",
       "      <td>0.0</td>\n",
       "      <td>NaN</td>\n",
       "      <td>0.0</td>\n",
       "      <td>NaN</td>\n",
       "      <td>-0.001806</td>\n",
       "    </tr>\n",
       "    <tr>\n",
       "      <th>yeast</th>\n",
       "      <td>0.0</td>\n",
       "      <td>NaN</td>\n",
       "      <td>NaN</td>\n",
       "      <td>NaN</td>\n",
       "      <td>NaN</td>\n",
       "      <td>NaN</td>\n",
       "      <td>NaN</td>\n",
       "      <td>NaN</td>\n",
       "      <td>NaN</td>\n",
       "      <td>NaN</td>\n",
       "      <td>...</td>\n",
       "      <td>-0.00610</td>\n",
       "      <td>NaN</td>\n",
       "      <td>NaN</td>\n",
       "      <td>NaN</td>\n",
       "      <td>0.0</td>\n",
       "      <td>NaN</td>\n",
       "      <td>NaN</td>\n",
       "      <td>NaN</td>\n",
       "      <td>-9.572786e-21</td>\n",
       "      <td>NaN</td>\n",
       "    </tr>\n",
       "  </tbody>\n",
       "</table>\n",
       "<p>3 rows × 416 columns</p>\n",
       "</div>"
      ],
      "text/plain": [
       "reaction     EX_12ppd__S_e  EX_12ppd__S_m  EX_14glucan_e  EX_14glucan_m  \\\n",
       "compartment                                                               \n",
       "bacteria               NaN            NaN            0.0            NaN   \n",
       "medium                 NaN           -0.0            NaN            0.0   \n",
       "yeast                  0.0            NaN            NaN            NaN   \n",
       "\n",
       "reaction     EX_23camp_e  EX_23camp_m  EX_23ccmp_e  EX_23ccmp_m  EX_23cgmp_e  \\\n",
       "compartment                                                                    \n",
       "bacteria             0.0          NaN          0.0          NaN          0.0   \n",
       "medium               NaN          0.0          NaN          0.0          NaN   \n",
       "yeast                NaN          NaN          NaN          NaN          NaN   \n",
       "\n",
       "reaction     EX_23cgmp_m  ...  EX_val__L_e  EX_val__L_m  EX_xan_e  EX_xan_m  \\\n",
       "compartment               ...                                                 \n",
       "bacteria             NaN  ...     -4.48147          NaN       0.0       NaN   \n",
       "medium               0.0  ...          NaN    -2.243785       NaN       0.0   \n",
       "yeast                NaN  ...     -0.00610          NaN       NaN       NaN   \n",
       "\n",
       "reaction     EX_xyl__D_e  EX_xyl__D_m  EX_xylan4_e  EX_xylan4_m      EX_zn2_e  \\\n",
       "compartment                                                                     \n",
       "bacteria             0.0          NaN          0.0          NaN -3.611339e-03   \n",
       "medium               NaN          0.0          NaN          0.0           NaN   \n",
       "yeast                0.0          NaN          NaN          NaN -9.572786e-21   \n",
       "\n",
       "reaction     EX_zn2_m  \n",
       "compartment            \n",
       "bacteria          NaN  \n",
       "medium      -0.001806  \n",
       "yeast             NaN  \n",
       "\n",
       "[3 rows x 416 columns]"
      ]
     },
     "execution_count": 222,
     "metadata": {},
     "output_type": "execute_result"
    }
   ],
   "source": [
    "matrix=sol.fluxes\n",
    "matrix1=matrix.filter(regex='^EX')\n",
    "matrix1"
   ]
  },
  {
   "cell_type": "markdown",
   "id": "5695d198",
   "metadata": {},
   "source": [
    "After finding the exchanges we want to highlight the compounds produced by the bacterium and absorbed by the yeast or the other way around to underline the main exchanges"
   ]
  },
  {
   "cell_type": "code",
   "execution_count": 223,
   "id": "5bbc20ed",
   "metadata": {},
   "outputs": [
    {
     "data": {
      "text/html": [
       "<div>\n",
       "<style scoped>\n",
       "    .dataframe tbody tr th:only-of-type {\n",
       "        vertical-align: middle;\n",
       "    }\n",
       "\n",
       "    .dataframe tbody tr th {\n",
       "        vertical-align: top;\n",
       "    }\n",
       "\n",
       "    .dataframe thead th {\n",
       "        text-align: right;\n",
       "    }\n",
       "</style>\n",
       "<table border=\"1\" class=\"dataframe\">\n",
       "  <thead>\n",
       "    <tr style=\"text-align: right;\">\n",
       "      <th>reaction</th>\n",
       "      <th>EX_glu__L_e</th>\n",
       "    </tr>\n",
       "    <tr>\n",
       "      <th>compartment</th>\n",
       "      <th></th>\n",
       "    </tr>\n",
       "  </thead>\n",
       "  <tbody>\n",
       "    <tr>\n",
       "      <th>bacteria</th>\n",
       "      <td>-100.000000</td>\n",
       "    </tr>\n",
       "    <tr>\n",
       "      <th>medium</th>\n",
       "      <td>NaN</td>\n",
       "    </tr>\n",
       "    <tr>\n",
       "      <th>yeast</th>\n",
       "      <td>45.412287</td>\n",
       "    </tr>\n",
       "  </tbody>\n",
       "</table>\n",
       "</div>"
      ],
      "text/plain": [
       "reaction     EX_glu__L_e\n",
       "compartment             \n",
       "bacteria     -100.000000\n",
       "medium               NaN\n",
       "yeast          45.412287"
      ]
     },
     "execution_count": 223,
     "metadata": {},
     "output_type": "execute_result"
    }
   ],
   "source": [
    "# Filter columns for \"iMM904\" with values lower than 0\n",
    "#condition_iMM904 = (matrix1.loc['iMM904'] < 0)\n",
    "condition_bacteria = (matrix1.loc['bacteria'] < -0.01)\n",
    "\n",
    "# Filter columns for \"iNF517\" with values higher than 0\n",
    "#condition_iNF517 = (matrix1.loc['iNF517'] > 0)\n",
    "condition_yeast = (matrix1.loc['yeast'] > 0.01)\n",
    "\n",
    "# Combine the conditions using logical AND (&) \n",
    "selected_dataframe_1 = matrix1.loc[:,((condition_bacteria) & (condition_yeast))]\n",
    "\n",
    "\n",
    "selected_dataframe_1\n",
    "\n"
   ]
  },
  {
   "cell_type": "code",
   "execution_count": 224,
   "id": "14a17519",
   "metadata": {},
   "outputs": [
    {
     "data": {
      "text/html": [
       "<div>\n",
       "<style scoped>\n",
       "    .dataframe tbody tr th:only-of-type {\n",
       "        vertical-align: middle;\n",
       "    }\n",
       "\n",
       "    .dataframe tbody tr th {\n",
       "        vertical-align: top;\n",
       "    }\n",
       "\n",
       "    .dataframe thead th {\n",
       "        text-align: right;\n",
       "    }\n",
       "</style>\n",
       "<table border=\"1\" class=\"dataframe\">\n",
       "  <thead>\n",
       "    <tr style=\"text-align: right;\">\n",
       "      <th>reaction</th>\n",
       "      <th>EX_gal_e</th>\n",
       "    </tr>\n",
       "    <tr>\n",
       "      <th>compartment</th>\n",
       "      <th></th>\n",
       "    </tr>\n",
       "  </thead>\n",
       "  <tbody>\n",
       "    <tr>\n",
       "      <th>bacteria</th>\n",
       "      <td>0.084035</td>\n",
       "    </tr>\n",
       "    <tr>\n",
       "      <th>medium</th>\n",
       "      <td>NaN</td>\n",
       "    </tr>\n",
       "    <tr>\n",
       "      <th>yeast</th>\n",
       "      <td>-0.084035</td>\n",
       "    </tr>\n",
       "  </tbody>\n",
       "</table>\n",
       "</div>"
      ],
      "text/plain": [
       "reaction     EX_gal_e\n",
       "compartment          \n",
       "bacteria     0.084035\n",
       "medium            NaN\n",
       "yeast       -0.084035"
      ]
     },
     "execution_count": 224,
     "metadata": {},
     "output_type": "execute_result"
    }
   ],
   "source": [
    "# Filter columns for bacteria and yeast\n",
    "condition_bacteria = (matrix1.loc['bacteria'] > 0.01)\n",
    "\n",
    "condition_yeast = (matrix1.loc['yeast'] < -0.01)\n",
    "\n",
    "# Combine the conditions using logical AND (&)\n",
    "selected_dataframe_2 = matrix1.loc[:,((condition_bacteria) & (condition_yeast))]\n",
    "\n",
    "selected_dataframe_2"
   ]
  },
  {
   "cell_type": "markdown",
   "id": "76c74300",
   "metadata": {},
   "source": [
    "Unlike in the single species simulations, here the yeast can grow on lactose but only because it is helped by the bacterium which metabolises the lactose to galactose and glucose. The galactose is then taken by the yeast."
   ]
  },
  {
   "cell_type": "code",
   "execution_count": 225,
   "id": "e599b77c",
   "metadata": {},
   "outputs": [
    {
     "name": "stdout",
     "output_type": "stream",
     "text": [
      "Concatenated DataFrame along columns:\n"
     ]
    },
    {
     "data": {
      "text/html": [
       "<div>\n",
       "<style scoped>\n",
       "    .dataframe tbody tr th:only-of-type {\n",
       "        vertical-align: middle;\n",
       "    }\n",
       "\n",
       "    .dataframe tbody tr th {\n",
       "        vertical-align: top;\n",
       "    }\n",
       "\n",
       "    .dataframe thead th {\n",
       "        text-align: right;\n",
       "    }\n",
       "</style>\n",
       "<table border=\"1\" class=\"dataframe\">\n",
       "  <thead>\n",
       "    <tr style=\"text-align: right;\">\n",
       "      <th>reaction</th>\n",
       "      <th>EX_glu__L_e</th>\n",
       "      <th>EX_gal_e</th>\n",
       "    </tr>\n",
       "    <tr>\n",
       "      <th>compartment</th>\n",
       "      <th></th>\n",
       "      <th></th>\n",
       "    </tr>\n",
       "  </thead>\n",
       "  <tbody>\n",
       "    <tr>\n",
       "      <th>bacteria</th>\n",
       "      <td>-100.000000</td>\n",
       "      <td>0.084035</td>\n",
       "    </tr>\n",
       "    <tr>\n",
       "      <th>yeast</th>\n",
       "      <td>45.412287</td>\n",
       "      <td>-0.084035</td>\n",
       "    </tr>\n",
       "  </tbody>\n",
       "</table>\n",
       "</div>"
      ],
      "text/plain": [
       "reaction     EX_glu__L_e  EX_gal_e\n",
       "compartment                       \n",
       "bacteria     -100.000000  0.084035\n",
       "yeast          45.412287 -0.084035"
      ]
     },
     "execution_count": 225,
     "metadata": {},
     "output_type": "execute_result"
    }
   ],
   "source": [
    "# Concatenate along columns (horizontally)\n",
    "concatenated_df = pd.concat([selected_dataframe_1, selected_dataframe_2], axis=1)\n",
    "\n",
    "print(\"Concatenated DataFrame along columns:\")\n",
    "concatenated_df_nomedia = concatenated_df.drop('medium')\n",
    "concatenated_df_nomedia"
   ]
  },
  {
   "cell_type": "markdown",
   "id": "1e2d26c9",
   "metadata": {},
   "source": [
    "Let's play with matplotlib to represent grafically the results"
   ]
  },
  {
   "cell_type": "code",
   "execution_count": 203,
   "id": "f371dc00",
   "metadata": {},
   "outputs": [
    {
     "data": {
      "image/png": "[encoded data removed]",
      "text/plain": [
       "<Figure size 720x432 with 1 Axes>"
      ]
     },
     "metadata": {
      "needs_background": "light"
     },
     "output_type": "display_data"
    }
   ],
   "source": [
    "# Plotting a bar plot\n",
    "ax = concatenated_df_nomedia.T.plot(kind='bar', figsize=(10, 6))\n",
    "plt.title('Bacteria and Yeast exchanges')\n",
    "plt.xlabel('Samples')\n",
    "plt.ylabel('Count')\n",
    "plt.xticks(rotation=90)  # Rotating x-axis labels for better readability\n",
    "plt.legend(title='Microorganisms', loc='upper right')\n",
    "plt.show()"
   ]
  },
  {
   "cell_type": "code",
   "execution_count": 204,
   "id": "a69f8868",
   "metadata": {},
   "outputs": [
    {
     "data": {
      "image/png": "[encoded data removed]",
      "text/plain": [
       "<Figure size 576x432 with 2 Axes>"
      ]
     },
     "metadata": {
      "needs_background": "light"
     },
     "output_type": "display_data"
    }
   ],
   "source": [
    "import seaborn as sns\n",
    "# Create heatmap\n",
    "plt.figure(figsize=(8, 6))  # Adjust the size of the figure as needed\n",
    "palette = sns.diverging_palette(220, 20, as_cmap=True)\n",
    "sns.heatmap(concatenated_df_nomedia, annot=True, cmap=palette)  # Annotate cells with values and choose colormap\n",
    "plt.title('Heatmap')  # Add title\n",
    "plt.xlabel('Columns')  # Add label for x-axis\n",
    "plt.ylabel('Rows')  # Add label for y-axis\n",
    "plt.show()"
   ]
  },
  {
   "cell_type": "markdown",
   "id": "4cf48ad1",
   "metadata": {},
   "source": [
    "## Questions\n",
    "1. Check if the lactose is absorbed by the bacterium as we expect. Can you do it with one line code? "
   ]
  },
  {
   "cell_type": "markdown",
   "id": "dd723b02",
   "metadata": {},
   "source": [
    "## Solution"
   ]
  },
  {
   "cell_type": "code",
   "execution_count": 260,
   "id": "61a94e2a",
   "metadata": {},
   "outputs": [
    {
     "data": {
      "text/plain": [
       "compartment\n",
       "bacteria    0.0\n",
       "medium      NaN\n",
       "yeast       0.0\n",
       "Name: EX_glc__D_e, dtype: float64"
      ]
     },
     "execution_count": 260,
     "metadata": {},
     "output_type": "execute_result"
    }
   ],
   "source": [
    "matrix1[\"EX_glc__D_e\"]"
   ]
  },
  {
   "cell_type": "markdown",
   "id": "0c81db19",
   "metadata": {},
   "source": [
    "### 3.3 Change the medium and compare our results"
   ]
  },
  {
   "cell_type": "code",
   "execution_count": 235,
   "id": "9dae3067",
   "metadata": {
    "scrolled": true
   },
   "outputs": [
    {
     "data": {
      "text/html": [
       "<pre style=\"white-space:pre;overflow-x:auto;line-height:normal;font-family:Menlo,'DejaVu Sans Mono',consolas,'Courier New',monospace\"><span style=\"color: #7fbfbf; text-decoration-color: #7fbfbf\">[11:19:42] </span><span style=\"color: #800000; text-decoration-color: #800000\">WARNING </span> I could not find the following exchanges in your model:  <a href=\"file:///Users/arianna/miniconda3/envs/carve_fungi/lib/python3.8/site-packages/micom/community.py\" target=\"_blank\"><span style=\"color: #7f7f7f; text-decoration-color: #7f7f7f\">community.py</span></a><span style=\"color: #7f7f7f; text-decoration-color: #7f7f7f\">:</span><a href=\"file:///Users/arianna/miniconda3/envs/carve_fungi/lib/python3.8/site-packages/micom/community.py#669\" target=\"_blank\"><span style=\"color: #7f7f7f; text-decoration-color: #7f7f7f\">669</span></a>\n",
       "<span style=\"color: #7fbfbf; text-decoration-color: #7fbfbf\">           </span>         EX_iodine_m                                              <span style=\"color: #7f7f7f; text-decoration-color: #7f7f7f\">                </span>\n",
       "</pre>\n"
      ],
      "text/plain": [
       "\u001b[2;36m[11:19:42]\u001b[0m\u001b[2;36m \u001b[0m\u001b[31mWARNING \u001b[0m I could not find the following exchanges in your model:  \u001b]8;id=598509;file:///Users/arianna/miniconda3/envs/carve_fungi/lib/python3.8/site-packages/micom/community.py\u001b\\\u001b[2mcommunity.py\u001b[0m\u001b]8;;\u001b\\\u001b[2m:\u001b[0m\u001b]8;id=439447;file:///Users/arianna/miniconda3/envs/carve_fungi/lib/python3.8/site-packages/micom/community.py#669\u001b\\\u001b[2m669\u001b[0m\u001b]8;;\u001b\\\n",
       "\u001b[2;36m           \u001b[0m         EX_iodine_m                                              \u001b[2m                \u001b[0m\n"
      ]
     },
     "metadata": {},
     "output_type": "display_data"
    },
    {
     "data": {
      "text/plain": [
       "{'EX_h2o_m': 1000,\n",
       " 'EX_h_m': 1000,\n",
       " 'EX_leu__L_m': 1000,\n",
       " 'EX_ala__L_m': 1000,\n",
       " 'EX_cl_m': 1000,\n",
       " 'EX_pi_m': 1000,\n",
       " 'EX_nh4_m': 1000,\n",
       " 'EX_asn__L_m': 1000,\n",
       " 'EX_gly_m': 1000,\n",
       " 'EX_arg__L_m': 1000,\n",
       " 'EX_fe3_m': 1000,\n",
       " 'EX_orn_m': 1000,\n",
       " 'EX_asp__L_m': 1000,\n",
       " 'EX_k_m': 1000,\n",
       " 'EX_ca2_m': 1000,\n",
       " 'EX_mg2_m': 1000,\n",
       " 'EX_mn2_m': 1000,\n",
       " 'EX_cobalt2_m': 1000,\n",
       " 'EX_zn2_m': 1000,\n",
       " 'EX_co2_m': 1000,\n",
       " 'EX_cu2_m': 1000,\n",
       " 'EX_o2_m': 1000,\n",
       " 'EX_glu__L_m': 1000,\n",
       " 'EX_fe2_m': 1000,\n",
       " 'EX_feenter_m': 1000,\n",
       " 'EX_gal_m': 1000,\n",
       " 'EX_his__L_m': 1000,\n",
       " 'EX_ile__L_m': 1000,\n",
       " 'EX_met__L_m': 1000,\n",
       " 'EX_so4_m': 1000,\n",
       " 'EX_tyr__L_m': 1000,\n",
       " 'EX_val__L_m': 1000,\n",
       " 'EX_thm_m': 1000}"
      ]
     },
     "execution_count": 235,
     "metadata": {},
     "output_type": "execute_result"
    }
   ],
   "source": [
    "medium={}\n",
    "for ele in medium_dict['CDM35_gal']:\n",
    "    medium[ele]=1000\n",
    "com.medium=medium\n",
    "\n",
    "com.medium"
   ]
  },
  {
   "cell_type": "code",
   "execution_count": 236,
   "id": "122d2552",
   "metadata": {},
   "outputs": [
    {
     "data": {
      "text/html": [
       "<strong>community growth:</strong> 4.954<br><strong>status:</strong> optimal<br><strong>taxa:</strong><div>\n",
       "<style scoped>\n",
       "    .dataframe tbody tr th:only-of-type {\n",
       "        vertical-align: middle;\n",
       "    }\n",
       "\n",
       "    .dataframe tbody tr th {\n",
       "        vertical-align: top;\n",
       "    }\n",
       "\n",
       "    .dataframe thead th {\n",
       "        text-align: right;\n",
       "    }\n",
       "</style>\n",
       "<table border=\"1\" class=\"dataframe\">\n",
       "  <thead>\n",
       "    <tr style=\"text-align: right;\">\n",
       "      <th></th>\n",
       "      <th>abundance</th>\n",
       "      <th>growth_rate</th>\n",
       "      <th>reactions</th>\n",
       "      <th>metabolites</th>\n",
       "    </tr>\n",
       "    <tr>\n",
       "      <th>compartments</th>\n",
       "      <th></th>\n",
       "      <th></th>\n",
       "      <th></th>\n",
       "      <th></th>\n",
       "    </tr>\n",
       "  </thead>\n",
       "  <tbody>\n",
       "    <tr>\n",
       "      <th>bacteria</th>\n",
       "      <td>0.5</td>\n",
       "      <td>7.177319</td>\n",
       "      <td>1642</td>\n",
       "      <td>1157</td>\n",
       "    </tr>\n",
       "    <tr>\n",
       "      <th>medium</th>\n",
       "      <td>NaN</td>\n",
       "      <td>NaN</td>\n",
       "      <td>208</td>\n",
       "      <td>208</td>\n",
       "    </tr>\n",
       "    <tr>\n",
       "      <th>yeast</th>\n",
       "      <td>0.5</td>\n",
       "      <td>2.731211</td>\n",
       "      <td>1228</td>\n",
       "      <td>937</td>\n",
       "    </tr>\n",
       "  </tbody>\n",
       "</table>\n",
       "</div>"
      ],
      "text/plain": [
       "<CommunitySolution 4.954 at 0x7fbf9275e940>"
      ]
     },
     "execution_count": 236,
     "metadata": {},
     "output_type": "execute_result"
    }
   ],
   "source": [
    "sol=com.optimize(fluxes=True)\n",
    "sol"
   ]
  },
  {
   "cell_type": "code",
   "execution_count": 237,
   "id": "d9454fd8",
   "metadata": {},
   "outputs": [
    {
     "data": {
      "text/html": [
       "<div>\n",
       "<style scoped>\n",
       "    .dataframe tbody tr th:only-of-type {\n",
       "        vertical-align: middle;\n",
       "    }\n",
       "\n",
       "    .dataframe tbody tr th {\n",
       "        vertical-align: top;\n",
       "    }\n",
       "\n",
       "    .dataframe thead th {\n",
       "        text-align: right;\n",
       "    }\n",
       "</style>\n",
       "<table border=\"1\" class=\"dataframe\">\n",
       "  <thead>\n",
       "    <tr style=\"text-align: right;\">\n",
       "      <th>reaction</th>\n",
       "      <th>EX_12ppd__S_e</th>\n",
       "      <th>EX_12ppd__S_m</th>\n",
       "      <th>EX_14glucan_e</th>\n",
       "      <th>EX_14glucan_m</th>\n",
       "      <th>EX_23camp_e</th>\n",
       "      <th>EX_23camp_m</th>\n",
       "      <th>EX_23ccmp_e</th>\n",
       "      <th>EX_23ccmp_m</th>\n",
       "      <th>EX_23cgmp_e</th>\n",
       "      <th>EX_23cgmp_m</th>\n",
       "      <th>...</th>\n",
       "      <th>EX_val__L_e</th>\n",
       "      <th>EX_val__L_m</th>\n",
       "      <th>EX_xan_e</th>\n",
       "      <th>EX_xan_m</th>\n",
       "      <th>EX_xyl__D_e</th>\n",
       "      <th>EX_xyl__D_m</th>\n",
       "      <th>EX_xylan4_e</th>\n",
       "      <th>EX_xylan4_m</th>\n",
       "      <th>EX_zn2_e</th>\n",
       "      <th>EX_zn2_m</th>\n",
       "    </tr>\n",
       "    <tr>\n",
       "      <th>compartment</th>\n",
       "      <th></th>\n",
       "      <th></th>\n",
       "      <th></th>\n",
       "      <th></th>\n",
       "      <th></th>\n",
       "      <th></th>\n",
       "      <th></th>\n",
       "      <th></th>\n",
       "      <th></th>\n",
       "      <th></th>\n",
       "      <th></th>\n",
       "      <th></th>\n",
       "      <th></th>\n",
       "      <th></th>\n",
       "      <th></th>\n",
       "      <th></th>\n",
       "      <th></th>\n",
       "      <th></th>\n",
       "      <th></th>\n",
       "      <th></th>\n",
       "      <th></th>\n",
       "    </tr>\n",
       "  </thead>\n",
       "  <tbody>\n",
       "    <tr>\n",
       "      <th>bacteria</th>\n",
       "      <td>NaN</td>\n",
       "      <td>NaN</td>\n",
       "      <td>0.0</td>\n",
       "      <td>NaN</td>\n",
       "      <td>0.0</td>\n",
       "      <td>NaN</td>\n",
       "      <td>0.0</td>\n",
       "      <td>NaN</td>\n",
       "      <td>0.0</td>\n",
       "      <td>NaN</td>\n",
       "      <td>...</td>\n",
       "      <td>-2.941252</td>\n",
       "      <td>NaN</td>\n",
       "      <td>0.0</td>\n",
       "      <td>NaN</td>\n",
       "      <td>0.0</td>\n",
       "      <td>NaN</td>\n",
       "      <td>0.0</td>\n",
       "      <td>NaN</td>\n",
       "      <td>-0.002370</td>\n",
       "      <td>NaN</td>\n",
       "    </tr>\n",
       "    <tr>\n",
       "      <th>medium</th>\n",
       "      <td>NaN</td>\n",
       "      <td>-0.0</td>\n",
       "      <td>NaN</td>\n",
       "      <td>0.0</td>\n",
       "      <td>NaN</td>\n",
       "      <td>0.0</td>\n",
       "      <td>NaN</td>\n",
       "      <td>0.0</td>\n",
       "      <td>NaN</td>\n",
       "      <td>0.0</td>\n",
       "      <td>...</td>\n",
       "      <td>NaN</td>\n",
       "      <td>-2.033012</td>\n",
       "      <td>NaN</td>\n",
       "      <td>0.0</td>\n",
       "      <td>NaN</td>\n",
       "      <td>0.0</td>\n",
       "      <td>NaN</td>\n",
       "      <td>0.0</td>\n",
       "      <td>NaN</td>\n",
       "      <td>-0.001636</td>\n",
       "    </tr>\n",
       "    <tr>\n",
       "      <th>yeast</th>\n",
       "      <td>0.0</td>\n",
       "      <td>NaN</td>\n",
       "      <td>NaN</td>\n",
       "      <td>NaN</td>\n",
       "      <td>NaN</td>\n",
       "      <td>NaN</td>\n",
       "      <td>NaN</td>\n",
       "      <td>NaN</td>\n",
       "      <td>NaN</td>\n",
       "      <td>NaN</td>\n",
       "      <td>...</td>\n",
       "      <td>-1.124772</td>\n",
       "      <td>NaN</td>\n",
       "      <td>NaN</td>\n",
       "      <td>NaN</td>\n",
       "      <td>0.0</td>\n",
       "      <td>NaN</td>\n",
       "      <td>NaN</td>\n",
       "      <td>NaN</td>\n",
       "      <td>-0.000902</td>\n",
       "      <td>NaN</td>\n",
       "    </tr>\n",
       "  </tbody>\n",
       "</table>\n",
       "<p>3 rows × 416 columns</p>\n",
       "</div>"
      ],
      "text/plain": [
       "reaction     EX_12ppd__S_e  EX_12ppd__S_m  EX_14glucan_e  EX_14glucan_m  \\\n",
       "compartment                                                               \n",
       "bacteria               NaN            NaN            0.0            NaN   \n",
       "medium                 NaN           -0.0            NaN            0.0   \n",
       "yeast                  0.0            NaN            NaN            NaN   \n",
       "\n",
       "reaction     EX_23camp_e  EX_23camp_m  EX_23ccmp_e  EX_23ccmp_m  EX_23cgmp_e  \\\n",
       "compartment                                                                    \n",
       "bacteria             0.0          NaN          0.0          NaN          0.0   \n",
       "medium               NaN          0.0          NaN          0.0          NaN   \n",
       "yeast                NaN          NaN          NaN          NaN          NaN   \n",
       "\n",
       "reaction     EX_23cgmp_m  ...  EX_val__L_e  EX_val__L_m  EX_xan_e  EX_xan_m  \\\n",
       "compartment               ...                                                 \n",
       "bacteria             NaN  ...    -2.941252          NaN       0.0       NaN   \n",
       "medium               0.0  ...          NaN    -2.033012       NaN       0.0   \n",
       "yeast                NaN  ...    -1.124772          NaN       NaN       NaN   \n",
       "\n",
       "reaction     EX_xyl__D_e  EX_xyl__D_m  EX_xylan4_e  EX_xylan4_m  EX_zn2_e  \\\n",
       "compartment                                                                 \n",
       "bacteria             0.0          NaN          0.0          NaN -0.002370   \n",
       "medium               NaN          0.0          NaN          0.0       NaN   \n",
       "yeast                0.0          NaN          NaN          NaN -0.000902   \n",
       "\n",
       "reaction     EX_zn2_m  \n",
       "compartment            \n",
       "bacteria          NaN  \n",
       "medium      -0.001636  \n",
       "yeast             NaN  \n",
       "\n",
       "[3 rows x 416 columns]"
      ]
     },
     "execution_count": 237,
     "metadata": {},
     "output_type": "execute_result"
    }
   ],
   "source": [
    "matrix=sol.fluxes\n",
    "matrix1=matrix.filter(regex='^EX')\n",
    "matrix1"
   ]
  },
  {
   "cell_type": "code",
   "execution_count": 238,
   "id": "e5d73718",
   "metadata": {},
   "outputs": [
    {
     "data": {
      "text/html": [
       "<div>\n",
       "<style scoped>\n",
       "    .dataframe tbody tr th:only-of-type {\n",
       "        vertical-align: middle;\n",
       "    }\n",
       "\n",
       "    .dataframe tbody tr th {\n",
       "        vertical-align: top;\n",
       "    }\n",
       "\n",
       "    .dataframe thead th {\n",
       "        text-align: right;\n",
       "    }\n",
       "</style>\n",
       "<table border=\"1\" class=\"dataframe\">\n",
       "  <thead>\n",
       "    <tr style=\"text-align: right;\">\n",
       "      <th>reaction</th>\n",
       "    </tr>\n",
       "    <tr>\n",
       "      <th>compartment</th>\n",
       "    </tr>\n",
       "  </thead>\n",
       "  <tbody>\n",
       "    <tr>\n",
       "      <th>bacteria</th>\n",
       "    </tr>\n",
       "    <tr>\n",
       "      <th>medium</th>\n",
       "    </tr>\n",
       "    <tr>\n",
       "      <th>yeast</th>\n",
       "    </tr>\n",
       "  </tbody>\n",
       "</table>\n",
       "</div>"
      ],
      "text/plain": [
       "Empty DataFrame\n",
       "Columns: []\n",
       "Index: [bacteria, medium, yeast]"
      ]
     },
     "execution_count": 238,
     "metadata": {},
     "output_type": "execute_result"
    }
   ],
   "source": [
    "condition_bacteria = (matrix1.loc['bacteria'] < -0.01)\n",
    "\n",
    "condition_yeast = (matrix1.loc['yeast'] > 0.01)\n",
    "\n",
    "# Combine the conditions using logical AND (&) \n",
    "selected_dataframe_1 = matrix1.loc[:,((condition_bacteria) & (condition_yeast))]\n",
    "selected_dataframe_1"
   ]
  },
  {
   "cell_type": "code",
   "execution_count": 231,
   "id": "7e7e3e64",
   "metadata": {},
   "outputs": [
    {
     "data": {
      "text/html": [
       "<div>\n",
       "<style scoped>\n",
       "    .dataframe tbody tr th:only-of-type {\n",
       "        vertical-align: middle;\n",
       "    }\n",
       "\n",
       "    .dataframe tbody tr th {\n",
       "        vertical-align: top;\n",
       "    }\n",
       "\n",
       "    .dataframe thead th {\n",
       "        text-align: right;\n",
       "    }\n",
       "</style>\n",
       "<table border=\"1\" class=\"dataframe\">\n",
       "  <thead>\n",
       "    <tr style=\"text-align: right;\">\n",
       "      <th>reaction</th>\n",
       "      <th>EX_ac_e</th>\n",
       "      <th>EX_phe__L_e</th>\n",
       "      <th>EX_ser__L_e</th>\n",
       "      <th>EX_trp__L_e</th>\n",
       "    </tr>\n",
       "    <tr>\n",
       "      <th>compartment</th>\n",
       "      <th></th>\n",
       "      <th></th>\n",
       "      <th></th>\n",
       "      <th></th>\n",
       "    </tr>\n",
       "  </thead>\n",
       "  <tbody>\n",
       "    <tr>\n",
       "      <th>bacteria</th>\n",
       "      <td>391.429065</td>\n",
       "      <td>0.490018</td>\n",
       "      <td>3.267356</td>\n",
       "      <td>0.150347</td>\n",
       "    </tr>\n",
       "    <tr>\n",
       "      <th>medium</th>\n",
       "      <td>NaN</td>\n",
       "      <td>NaN</td>\n",
       "      <td>NaN</td>\n",
       "      <td>NaN</td>\n",
       "    </tr>\n",
       "    <tr>\n",
       "      <th>yeast</th>\n",
       "      <td>-0.459783</td>\n",
       "      <td>-0.490018</td>\n",
       "      <td>-3.267356</td>\n",
       "      <td>-0.150347</td>\n",
       "    </tr>\n",
       "  </tbody>\n",
       "</table>\n",
       "</div>"
      ],
      "text/plain": [
       "reaction        EX_ac_e  EX_phe__L_e  EX_ser__L_e  EX_trp__L_e\n",
       "compartment                                                   \n",
       "bacteria     391.429065     0.490018     3.267356     0.150347\n",
       "medium              NaN          NaN          NaN          NaN\n",
       "yeast         -0.459783    -0.490018    -3.267356    -0.150347"
      ]
     },
     "execution_count": 231,
     "metadata": {},
     "output_type": "execute_result"
    }
   ],
   "source": [
    "\n",
    "condition_bacteria = (matrix1.loc['bacteria'] > 0.01)\n",
    "\n",
    "condition_yeast = (matrix1.loc['yeast'] < -0.01)\n",
    "\n",
    "# Combine the conditions using logical AND (&)\n",
    "selected_dataframe_2 = matrix1.loc[:,((condition_bacteria) & (condition_yeast))]\n",
    "\n",
    "selected_dataframe_2\n"
   ]
  },
  {
   "cell_type": "code",
   "execution_count": 239,
   "id": "c9e91630",
   "metadata": {},
   "outputs": [
    {
     "name": "stdout",
     "output_type": "stream",
     "text": [
      "Concatenated DataFrame along columns:\n"
     ]
    },
    {
     "data": {
      "text/html": [
       "<div>\n",
       "<style scoped>\n",
       "    .dataframe tbody tr th:only-of-type {\n",
       "        vertical-align: middle;\n",
       "    }\n",
       "\n",
       "    .dataframe tbody tr th {\n",
       "        vertical-align: top;\n",
       "    }\n",
       "\n",
       "    .dataframe thead th {\n",
       "        text-align: right;\n",
       "    }\n",
       "</style>\n",
       "<table border=\"1\" class=\"dataframe\">\n",
       "  <thead>\n",
       "    <tr style=\"text-align: right;\">\n",
       "      <th>reaction</th>\n",
       "      <th>EX_ac_e</th>\n",
       "      <th>EX_phe__L_e</th>\n",
       "      <th>EX_ser__L_e</th>\n",
       "      <th>EX_trp__L_e</th>\n",
       "    </tr>\n",
       "    <tr>\n",
       "      <th>compartment</th>\n",
       "      <th></th>\n",
       "      <th></th>\n",
       "      <th></th>\n",
       "      <th></th>\n",
       "    </tr>\n",
       "  </thead>\n",
       "  <tbody>\n",
       "    <tr>\n",
       "      <th>bacteria</th>\n",
       "      <td>391.429065</td>\n",
       "      <td>0.490018</td>\n",
       "      <td>3.267356</td>\n",
       "      <td>0.150347</td>\n",
       "    </tr>\n",
       "    <tr>\n",
       "      <th>yeast</th>\n",
       "      <td>-0.459783</td>\n",
       "      <td>-0.490018</td>\n",
       "      <td>-3.267356</td>\n",
       "      <td>-0.150347</td>\n",
       "    </tr>\n",
       "  </tbody>\n",
       "</table>\n",
       "</div>"
      ],
      "text/plain": [
       "reaction        EX_ac_e  EX_phe__L_e  EX_ser__L_e  EX_trp__L_e\n",
       "compartment                                                   \n",
       "bacteria     391.429065     0.490018     3.267356     0.150347\n",
       "yeast         -0.459783    -0.490018    -3.267356    -0.150347"
      ]
     },
     "execution_count": 239,
     "metadata": {},
     "output_type": "execute_result"
    }
   ],
   "source": [
    "# Concatenate along columns (horizontally)\n",
    "concatenated_df = pd.concat([selected_dataframe_1, selected_dataframe_2], axis=1)\n",
    "\n",
    "print(\"Concatenated DataFrame along columns:\")\n",
    "concatenated_df_nomedia = concatenated_df.drop('medium')\n",
    "concatenated_df_nomedia"
   ]
  },
  {
   "cell_type": "code",
   "execution_count": 240,
   "id": "418a5124",
   "metadata": {},
   "outputs": [
    {
     "data": {
      "image/png": "[encoded data removed]",
      "text/plain": [
       "<Figure size 1080x432 with 1 Axes>"
      ]
     },
     "metadata": {
      "needs_background": "light"
     },
     "output_type": "display_data"
    }
   ],
   "source": [
    "# Plotting a bar plot\n",
    "ax = concatenated_df_nomedia.T.plot(kind='bar', figsize=(15, 6))\n",
    "plt.title('Bacteria and Yeast Counts')\n",
    "plt.xlabel('Samples')\n",
    "plt.ylabel('Count')\n",
    "plt.xticks(rotation=90)  # Rotating x-axis labels for better readability\n",
    "plt.legend(title='Microorganisms', loc='upper right')\n",
    "plt.show()"
   ]
  },
  {
   "cell_type": "code",
   "execution_count": 241,
   "id": "cea3f460",
   "metadata": {},
   "outputs": [
    {
     "data": {
      "image/png": "[encoded data removed]",
      "text/plain": [
       "<Figure size 576x432 with 2 Axes>"
      ]
     },
     "metadata": {
      "needs_background": "light"
     },
     "output_type": "display_data"
    }
   ],
   "source": [
    "plt.figure(figsize=(8, 6))  # Adjust the size of the figure as needed\n",
    "palette = sns.diverging_palette(220, 20, as_cmap=True)\n",
    "sns.heatmap(concatenated_df_nomedia, annot=True, cmap=palette)  # Annotate cells with values and choose colormap\n",
    "plt.title('Heatmap')  # Add title\n",
    "plt.xlabel('Columns')  # Add label for x-axis\n",
    "plt.ylabel('Rows')  # Add label for y-axis\n",
    "plt.show()"
   ]
  },
  {
   "cell_type": "markdown",
   "id": "dc36809c",
   "metadata": {},
   "source": [
    "## Questions\n",
    "1. Edit the medium considering an environment poor in aminoacids. What do you expect to see in your simulations? Why?"
   ]
  },
  {
   "cell_type": "code",
   "execution_count": null,
   "id": "f66cb5bd",
   "metadata": {},
   "outputs": [],
   "source": [
    "#type your code here"
   ]
  },
  {
   "cell_type": "markdown",
   "id": "ef7256e5",
   "metadata": {},
   "source": [
    "## Solution"
   ]
  },
  {
   "cell_type": "code",
   "execution_count": 246,
   "id": "3b3d486f",
   "metadata": {},
   "outputs": [
    {
     "data": {
      "text/html": [
       "<pre style=\"white-space:pre;overflow-x:auto;line-height:normal;font-family:Menlo,'DejaVu Sans Mono',consolas,'Courier New',monospace\"><span style=\"color: #7fbfbf; text-decoration-color: #7fbfbf\">[11:22:39] </span><span style=\"color: #800000; text-decoration-color: #800000\">WARNING </span> I could not find the following exchanges in your model:  <a href=\"file:///Users/arianna/miniconda3/envs/carve_fungi/lib/python3.8/site-packages/micom/community.py\" target=\"_blank\"><span style=\"color: #7f7f7f; text-decoration-color: #7f7f7f\">community.py</span></a><span style=\"color: #7f7f7f; text-decoration-color: #7f7f7f\">:</span><a href=\"file:///Users/arianna/miniconda3/envs/carve_fungi/lib/python3.8/site-packages/micom/community.py#669\" target=\"_blank\"><span style=\"color: #7f7f7f; text-decoration-color: #7f7f7f\">669</span></a>\n",
       "<span style=\"color: #7fbfbf; text-decoration-color: #7fbfbf\">           </span>         EX_iodine_m                                              <span style=\"color: #7f7f7f; text-decoration-color: #7f7f7f\">                </span>\n",
       "</pre>\n"
      ],
      "text/plain": [
       "\u001b[2;36m[11:22:39]\u001b[0m\u001b[2;36m \u001b[0m\u001b[31mWARNING \u001b[0m I could not find the following exchanges in your model:  \u001b]8;id=139809;file:///Users/arianna/miniconda3/envs/carve_fungi/lib/python3.8/site-packages/micom/community.py\u001b\\\u001b[2mcommunity.py\u001b[0m\u001b]8;;\u001b\\\u001b[2m:\u001b[0m\u001b]8;id=514235;file:///Users/arianna/miniconda3/envs/carve_fungi/lib/python3.8/site-packages/micom/community.py#669\u001b\\\u001b[2m669\u001b[0m\u001b]8;;\u001b\\\n",
       "\u001b[2;36m           \u001b[0m         EX_iodine_m                                              \u001b[2m                \u001b[0m\n"
      ]
     },
     "metadata": {},
     "output_type": "display_data"
    },
    {
     "name": "stdout",
     "output_type": "stream",
     "text": [
      "Concatenated DataFrame along columns:\n"
     ]
    },
    {
     "data": {
      "image/png": "[encoded data removed]",
      "text/plain": [
       "<Figure size 1080x432 with 1 Axes>"
      ]
     },
     "metadata": {
      "needs_background": "light"
     },
     "output_type": "display_data"
    }
   ],
   "source": [
    "medium={}\n",
    "for ele in medium_dict['CDM35_low_AA_lcts']:\n",
    "    medium[ele]=1000\n",
    "com.medium=medium\n",
    "\n",
    "com.medium\n",
    "sol=com.optimize(fluxes=True)\n",
    "sol\n",
    "matrix=sol.fluxes\n",
    "matrix1=matrix.filter(regex='^EX')\n",
    "matrix1\n",
    "\n",
    "condition_bacteria = (matrix1.loc['bacteria'] < -0.01)\n",
    "condition_yeast = (matrix1.loc['yeast'] > 0.01)\n",
    "\n",
    "# Combine the conditions using logical AND (&) \n",
    "selected_dataframe_1 = matrix1.loc[:,((condition_bacteria) & (condition_yeast))]\n",
    "selected_dataframe_1\n",
    "\n",
    "condition_bacteria = (matrix1.loc['bacteria'] > 0.01)\n",
    "condition_yeast = (matrix1.loc['yeast'] < -0.01)\n",
    "\n",
    "# Combine the conditions using logical AND (&)\n",
    "selected_dataframe_2 = matrix1.loc[:,((condition_bacteria) & (condition_yeast))]\n",
    "selected_dataframe_2\n",
    "\n",
    "# Concatenate along columns (horizontally)\n",
    "concatenated_df = pd.concat([selected_dataframe_1, selected_dataframe_2], axis=1)\n",
    "\n",
    "print(\"Concatenated DataFrame along columns:\")\n",
    "concatenated_df_nomedia = concatenated_df.drop('medium')\n",
    "concatenated_df_nomedia\n",
    "\n",
    "# Plotting a bar plot\n",
    "ax = concatenated_df_nomedia.T.plot(kind='bar', figsize=(15, 6))\n",
    "plt.title('Bacteria and Yeast Counts')\n",
    "plt.xlabel('Samples')\n",
    "plt.ylabel('Count')\n",
    "plt.xticks(rotation=90)  # Rotating x-axis labels for better readability\n",
    "plt.legend(title='Microorganisms', loc='upper right')\n",
    "plt.show()"
   ]
  },
  {
   "cell_type": "code",
   "execution_count": 247,
   "id": "3136db93",
   "metadata": {},
   "outputs": [
    {
     "data": {
      "image/png": "[encoded data removed]",
      "text/plain": [
       "<Figure size 7200x576 with 2 Axes>"
      ]
     },
     "metadata": {
      "needs_background": "light"
     },
     "output_type": "display_data"
    }
   ],
   "source": [
    "plt.figure(figsize=(100, 8))  # Adjust the size of the figure as needed\n",
    "palette = sns.diverging_palette(220, 20, as_cmap=True)\n",
    "sns.heatmap(concatenated_df_nomedia, annot=True, cmap=palette)  # Annotate cells with values and choose colormap\n",
    "plt.title('Heatmap')  # Add title\n",
    "plt.xlabel('Columns')  # Add label for x-axis\n",
    "plt.ylabel('Rows')  # Add label for y-axis\n",
    "plt.show()"
   ]
  },
  {
   "cell_type": "code",
   "execution_count": 248,
   "id": "4b8c567d",
   "metadata": {},
   "outputs": [
    {
     "data": {
      "text/html": [
       "<strong>community growth:</strong> 4.380<br><strong>status:</strong> optimal<br><strong>taxa:</strong><div>\n",
       "<style scoped>\n",
       "    .dataframe tbody tr th:only-of-type {\n",
       "        vertical-align: middle;\n",
       "    }\n",
       "\n",
       "    .dataframe tbody tr th {\n",
       "        vertical-align: top;\n",
       "    }\n",
       "\n",
       "    .dataframe thead th {\n",
       "        text-align: right;\n",
       "    }\n",
       "</style>\n",
       "<table border=\"1\" class=\"dataframe\">\n",
       "  <thead>\n",
       "    <tr style=\"text-align: right;\">\n",
       "      <th></th>\n",
       "      <th>abundance</th>\n",
       "      <th>growth_rate</th>\n",
       "      <th>reactions</th>\n",
       "      <th>metabolites</th>\n",
       "    </tr>\n",
       "    <tr>\n",
       "      <th>compartments</th>\n",
       "      <th></th>\n",
       "      <th></th>\n",
       "      <th></th>\n",
       "      <th></th>\n",
       "    </tr>\n",
       "  </thead>\n",
       "  <tbody>\n",
       "    <tr>\n",
       "      <th>bacteria</th>\n",
       "      <td>0.5</td>\n",
       "      <td>8.759353e+00</td>\n",
       "      <td>1642</td>\n",
       "      <td>1157</td>\n",
       "    </tr>\n",
       "    <tr>\n",
       "      <th>medium</th>\n",
       "      <td>NaN</td>\n",
       "      <td>NaN</td>\n",
       "      <td>208</td>\n",
       "      <td>208</td>\n",
       "    </tr>\n",
       "    <tr>\n",
       "      <th>yeast</th>\n",
       "      <td>0.5</td>\n",
       "      <td>4.883192e-16</td>\n",
       "      <td>1228</td>\n",
       "      <td>937</td>\n",
       "    </tr>\n",
       "  </tbody>\n",
       "</table>\n",
       "</div>"
      ],
      "text/plain": [
       "<CommunitySolution 4.380 at 0x7fbf93ecadf0>"
      ]
     },
     "execution_count": 248,
     "metadata": {},
     "output_type": "execute_result"
    }
   ],
   "source": [
    "sol"
   ]
  },
  {
   "cell_type": "code",
   "execution_count": null,
   "id": "8062f128",
   "metadata": {},
   "outputs": [],
   "source": []
  }
 ],
 "metadata": {
  "kernelspec": {
   "display_name": "Python 3 (ipykernel)",
   "language": "python",
   "name": "python3"
  },
  "language_info": {
   "codemirror_mode": {
    "name": "ipython",
    "version": 3
   },
   "file_extension": ".py",
   "mimetype": "text/x-python",
   "name": "python",
   "nbconvert_exporter": "python",
   "pygments_lexer": "ipython3",
   "version": "3.8.13"
  }
 },
 "nbformat": 4,
 "nbformat_minor": 5
}
